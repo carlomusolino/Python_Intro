{
  "nbformat": 4,
  "nbformat_minor": 0,
  "metadata": {
    "colab": {
      "name": "lesson1_2_Data_Types.ipynb",
      "provenance": [],
      "authorship_tag": "ABX9TyNVA4wspKhJMWxcQn/1zzmj",
      "include_colab_link": true
    },
    "kernelspec": {
      "name": "python3",
      "display_name": "Python 3"
    },
    "language_info": {
      "name": "python"
    }
  },
  "cells": [
    {
      "cell_type": "markdown",
      "metadata": {
        "id": "view-in-github",
        "colab_type": "text"
      },
      "source": [
        "<a href=\"https://colab.research.google.com/github/carlomusolino/Python_Intro/blob/main/lesson1_2_Data_Types.ipynb\" target=\"_parent\"><img src=\"https://colab.research.google.com/assets/colab-badge.svg\" alt=\"Open In Colab\"/></a>"
      ]
    },
    {
      "cell_type": "markdown",
      "metadata": {
        "id": "Jd8Pzj2t5HZC"
      },
      "source": [
        "# **Data types**\n",
        "\n",
        "We have now seen how data is at the foundation of the coding endeavour, but not all data is created equal. In last section's example we dealt with integer numbers, but this is only one of the many data **types** that Python supports. Let us start, again, with an example:\n"
      ]
    },
    {
      "cell_type": "code",
      "metadata": {
        "id": "yBihIKu_hB22",
        "colab": {
          "base_uri": "https://localhost:8080/"
        },
        "outputId": "ba98a0c3-4821-4f49-8974-1cd995416612"
      },
      "source": [
        "a = 3\n",
        "type(a)"
      ],
      "execution_count": 3,
      "outputs": [
        {
          "output_type": "execute_result",
          "data": {
            "text/plain": [
              "int"
            ]
          },
          "metadata": {
            "tags": []
          },
          "execution_count": 3
        }
      ]
    },
    {
      "cell_type": "code",
      "metadata": {
        "colab": {
          "base_uri": "https://localhost:8080/"
        },
        "id": "ZtydS1DS6Dp5",
        "outputId": "d51f3356-b6fb-4420-f082-6cefea5edae1"
      },
      "source": [
        "b = 5.0\n",
        "type(b)"
      ],
      "execution_count": 4,
      "outputs": [
        {
          "output_type": "execute_result",
          "data": {
            "text/plain": [
              "float"
            ]
          },
          "metadata": {
            "tags": []
          },
          "execution_count": 4
        }
      ]
    },
    {
      "cell_type": "code",
      "metadata": {
        "colab": {
          "base_uri": "https://localhost:8080/"
        },
        "id": "aikDJgRA6HDD",
        "outputId": "548c8d3a-3666-4909-a0fb-5d0f9ce0631e"
      },
      "source": [
        "c = \"foo\"\n",
        "type(c)"
      ],
      "execution_count": 5,
      "outputs": [
        {
          "output_type": "execute_result",
          "data": {
            "text/plain": [
              "str"
            ]
          },
          "metadata": {
            "tags": []
          },
          "execution_count": 5
        }
      ]
    },
    {
      "cell_type": "markdown",
      "metadata": {
        "id": "tbJzSvUV5GbU"
      },
      "source": [
        "The above are three of the most fundamental data types supported by Python: we have integer numbers, or **int**, floating point numbers, or **float** and strings (that is, sequences of characters delimited by quotation marks) or **str**. But what are data types and why do we need them? \n",
        "\n",
        "Whenever we assign a value to a variable in Python (using the assignment operator $=$) it automatically determines the type, or **class** to which that specific piece of data belongs. This tells Python what operations are well defined on that particular variable. For example, we can multiply two numbers by eachother:"
      ]
    },
    {
      "cell_type": "code",
      "metadata": {
        "colab": {
          "base_uri": "https://localhost:8080/"
        },
        "id": "Wn9ilbx-7Bhi",
        "outputId": "ba0fbdfe-0c3e-45c4-fbe6-8171e83c6c2e"
      },
      "source": [
        "a = 1.8\n",
        "b = 0.5\n",
        "a * b\n"
      ],
      "execution_count": 6,
      "outputs": [
        {
          "output_type": "execute_result",
          "data": {
            "text/plain": [
              "0.9"
            ]
          },
          "metadata": {
            "tags": []
          },
          "execution_count": 6
        }
      ]
    },
    {
      "cell_type": "markdown",
      "metadata": {
        "id": "U_I3MzvQ7Hdp"
      },
      "source": [
        "But if we tried to do the same with two strings Python would (and definitely should) complain:"
      ]
    },
    {
      "cell_type": "code",
      "metadata": {
        "colab": {
          "base_uri": "https://localhost:8080/",
          "height": 198
        },
        "id": "aJgcWnfc7HPV",
        "outputId": "ebd62f82-5b2d-4b28-a112-4a6844837220"
      },
      "source": [
        "a = \"foo\"\n",
        "b = \"bar\"\n",
        "a*b"
      ],
      "execution_count": 7,
      "outputs": [
        {
          "output_type": "error",
          "ename": "TypeError",
          "evalue": "ignored",
          "traceback": [
            "\u001b[0;31m---------------------------------------------------------------------------\u001b[0m",
            "\u001b[0;31mTypeError\u001b[0m                                 Traceback (most recent call last)",
            "\u001b[0;32m<ipython-input-7-a9bd82402f8d>\u001b[0m in \u001b[0;36m<module>\u001b[0;34m()\u001b[0m\n\u001b[1;32m      1\u001b[0m \u001b[0ma\u001b[0m \u001b[0;34m=\u001b[0m \u001b[0;34m\"foo\"\u001b[0m\u001b[0;34m\u001b[0m\u001b[0;34m\u001b[0m\u001b[0m\n\u001b[1;32m      2\u001b[0m \u001b[0mb\u001b[0m \u001b[0;34m=\u001b[0m \u001b[0;34m\"bar\"\u001b[0m\u001b[0;34m\u001b[0m\u001b[0;34m\u001b[0m\u001b[0m\n\u001b[0;32m----> 3\u001b[0;31m \u001b[0ma\u001b[0m\u001b[0;34m*\u001b[0m\u001b[0mb\u001b[0m\u001b[0;34m\u001b[0m\u001b[0;34m\u001b[0m\u001b[0m\n\u001b[0m",
            "\u001b[0;31mTypeError\u001b[0m: can't multiply sequence by non-int of type 'str'"
          ]
        }
      ]
    },
    {
      "cell_type": "markdown",
      "metadata": {
        "id": "OrqbUz787TzM"
      },
      "source": [
        "We encountered the first (of many) errors in our programming career. We'll have much more to say about these in what follows, but for now suffice to say that when an error is raised during the execution of our code it means that we did something wrong, and the traceback that Python gives back to us should help us track it down and correct it.\n",
        "\n",
        "Let's return to data classes. Some of the most fundamental data types that exist in Python are so called *container* classes: lists and tuples (and more, but we'll come back to these in a later chapter). Consider the following"
      ]
    },
    {
      "cell_type": "code",
      "metadata": {
        "colab": {
          "base_uri": "https://localhost:8080/"
        },
        "id": "l-P9laM47F_1",
        "outputId": "080d5163-5758-479c-8b9a-e869b2ac302d"
      },
      "source": [
        "mylist = [1,2,3,4,5]\n",
        "type(mylist)"
      ],
      "execution_count": 8,
      "outputs": [
        {
          "output_type": "execute_result",
          "data": {
            "text/plain": [
              "list"
            ]
          },
          "metadata": {
            "tags": []
          },
          "execution_count": 8
        }
      ]
    },
    {
      "cell_type": "code",
      "metadata": {
        "colab": {
          "base_uri": "https://localhost:8080/"
        },
        "id": "-8grv9w68Ncz",
        "outputId": "c15ec5fc-8388-4c46-85b3-ef4d3885af93"
      },
      "source": [
        "mytuple = (\"foo\",2.5,\"bar\",4)\n",
        "type(mytuple)"
      ],
      "execution_count": 9,
      "outputs": [
        {
          "output_type": "execute_result",
          "data": {
            "text/plain": [
              "tuple"
            ]
          },
          "metadata": {
            "tags": []
          },
          "execution_count": 9
        }
      ]
    },
    {
      "cell_type": "markdown",
      "metadata": {
        "id": "rLQ-NxRz79HI"
      },
      "source": [
        "It should be pretty self-evident why these are called containers: they *contain* a certain number of variables of any type within them. But how can we access data within a list or a tuple?"
      ]
    },
    {
      "cell_type": "code",
      "metadata": {
        "colab": {
          "base_uri": "https://localhost:8080/"
        },
        "id": "wRj5qlGu78Mw",
        "outputId": "bbe97f5d-b1b1-4913-b94b-e6beacb492af"
      },
      "source": [
        "print(mylist[0])\n"
      ],
      "execution_count": 10,
      "outputs": [
        {
          "output_type": "stream",
          "text": [
            "1\n"
          ],
          "name": "stdout"
        }
      ]
    },
    {
      "cell_type": "code",
      "metadata": {
        "colab": {
          "base_uri": "https://localhost:8080/"
        },
        "id": "UqLfw3Qp8ZXB",
        "outputId": "d2aed9af-97e8-4777-8710-cd667890df89"
      },
      "source": [
        "print(mytuple[1])"
      ],
      "execution_count": 11,
      "outputs": [
        {
          "output_type": "stream",
          "text": [
            "2.5\n"
          ],
          "name": "stdout"
        }
      ]
    },
    {
      "cell_type": "markdown",
      "metadata": {
        "id": "K4rJKnI58c63"
      },
      "source": [
        "In the previous code snippets we introduced two new things: the built-in function *print()* allows us to print whatever variable we pass it as argument to the screen. The square bracket syntax *list_name[index]* allows us instead to access a single element of a list by its index. It should be noted that indices in Python always start from $0$.\n",
        "\n",
        "The main difference between tuples and lists is that we can always modify and/or extend a list, whereas a tuple is set in stone: once we define it we can no longer change its contents. See the example below\n",
        "\n"
      ]
    },
    {
      "cell_type": "code",
      "metadata": {
        "colab": {
          "base_uri": "https://localhost:8080/"
        },
        "id": "RVs43iUn8b3E",
        "outputId": "b5c7f7bd-50db-4119-fee1-37f3eb1f8b0a"
      },
      "source": [
        "print(mylist)"
      ],
      "execution_count": 12,
      "outputs": [
        {
          "output_type": "stream",
          "text": [
            "[1, 2, 3, 4, 5]\n"
          ],
          "name": "stdout"
        }
      ]
    },
    {
      "cell_type": "code",
      "metadata": {
        "colab": {
          "base_uri": "https://localhost:8080/"
        },
        "id": "ebwv1WNZ9Pcv",
        "outputId": "ddc3c36b-dff6-44da-c063-9dd59c6d6fca"
      },
      "source": [
        "mylist[0] = \"foo\"\n",
        "print(mylist)"
      ],
      "execution_count": 13,
      "outputs": [
        {
          "output_type": "stream",
          "text": [
            "['foo', 2, 3, 4, 5]\n"
          ],
          "name": "stdout"
        }
      ]
    },
    {
      "cell_type": "code",
      "metadata": {
        "colab": {
          "base_uri": "https://localhost:8080/"
        },
        "id": "bSHb8cIK9S8N",
        "outputId": "9b9d0b84-a6bf-4313-fd29-e9b690819f89"
      },
      "source": [
        "print(mytuple)"
      ],
      "execution_count": 14,
      "outputs": [
        {
          "output_type": "stream",
          "text": [
            "('foo', 2.5, 'bar', 4)\n"
          ],
          "name": "stdout"
        }
      ]
    },
    {
      "cell_type": "code",
      "metadata": {
        "colab": {
          "base_uri": "https://localhost:8080/",
          "height": 181
        },
        "id": "DuMd_wP19UXO",
        "outputId": "6d2ae2da-2b41-4f09-c9ab-b4e09590a9ac"
      },
      "source": [
        "mytuple[0] = 1\n",
        "print(mytuple)"
      ],
      "execution_count": 15,
      "outputs": [
        {
          "output_type": "error",
          "ename": "TypeError",
          "evalue": "ignored",
          "traceback": [
            "\u001b[0;31m---------------------------------------------------------------------------\u001b[0m",
            "\u001b[0;31mTypeError\u001b[0m                                 Traceback (most recent call last)",
            "\u001b[0;32m<ipython-input-15-e12612eb45c2>\u001b[0m in \u001b[0;36m<module>\u001b[0;34m()\u001b[0m\n\u001b[0;32m----> 1\u001b[0;31m \u001b[0mmytuple\u001b[0m\u001b[0;34m[\u001b[0m\u001b[0;36m0\u001b[0m\u001b[0;34m]\u001b[0m \u001b[0;34m=\u001b[0m \u001b[0;36m1\u001b[0m\u001b[0;34m\u001b[0m\u001b[0;34m\u001b[0m\u001b[0m\n\u001b[0m\u001b[1;32m      2\u001b[0m \u001b[0mprint\u001b[0m\u001b[0;34m(\u001b[0m\u001b[0mmytuple\u001b[0m\u001b[0;34m)\u001b[0m\u001b[0;34m\u001b[0m\u001b[0;34m\u001b[0m\u001b[0m\n",
            "\u001b[0;31mTypeError\u001b[0m: 'tuple' object does not support item assignment"
          ]
        }
      ]
    },
    {
      "cell_type": "markdown",
      "metadata": {
        "id": "sXe7jRr49YpE"
      },
      "source": [
        "Let us focus on lists from now on. A very useful built-in Python function is *len()*. It returns the length of any sequence-like data:"
      ]
    },
    {
      "cell_type": "code",
      "metadata": {
        "id": "rYbaRNkw9XGk"
      },
      "source": [
        "a = \"foobar\"\n",
        "mylist = [1,2,3]"
      ],
      "execution_count": 16,
      "outputs": []
    },
    {
      "cell_type": "code",
      "metadata": {
        "colab": {
          "base_uri": "https://localhost:8080/"
        },
        "id": "OATjlbP991fd",
        "outputId": "e9431917-3785-4948-8e65-de726aae3502"
      },
      "source": [
        "len(a)"
      ],
      "execution_count": 17,
      "outputs": [
        {
          "output_type": "execute_result",
          "data": {
            "text/plain": [
              "6"
            ]
          },
          "metadata": {
            "tags": []
          },
          "execution_count": 17
        }
      ]
    },
    {
      "cell_type": "code",
      "metadata": {
        "colab": {
          "base_uri": "https://localhost:8080/"
        },
        "id": "qD6ningL92Ih",
        "outputId": "5dee3d58-5758-4adb-afaa-91f877d62364"
      },
      "source": [
        "len(mylist)"
      ],
      "execution_count": 18,
      "outputs": [
        {
          "output_type": "execute_result",
          "data": {
            "text/plain": [
              "3"
            ]
          },
          "metadata": {
            "tags": []
          },
          "execution_count": 18
        }
      ]
    },
    {
      "cell_type": "markdown",
      "metadata": {
        "id": "tRI8fJrh943N"
      },
      "source": [
        "#**Types or classes? Variables or instances? Methods**\n",
        "\n",
        "We said before that an alternative way of calling Python data types is classes, but why have two different names for the same thing? The reason lies at the heart of the Python programming paradigm. In fact, Python is, at its core, an Object Oriented Programming (OOP for short) language. In OOP, one relinquishes the concept of variables of a given type in favor the slightly more abstract notion of instances (or objects) of a given class. Classes can be default or user-defined, and all object of a certain class share a set of methods, that are either functions which can only be executed on instances of that class or pieces of data associated with each individual instance of that class. This is a rather brutal simplification of the OOP paradigm, and we'll definitely come back to the concept of classes in Python later on in the course. For now suffice to say that given an instance of a certain class that we'll generically call *instance_name* (this is to all intents and purposes a variable within Python) we can access the methods of the class via the syntax *instance_name.Method_Name(args)*. This will in general be the same as *Class_Name.Method_Name(instance_name,args)* but the first syntax is definitely the one to go for. Let us see this in practice with lists:"
      ]
    },
    {
      "cell_type": "code",
      "metadata": {
        "colab": {
          "base_uri": "https://localhost:8080/"
        },
        "id": "l1QHpQP293cI",
        "outputId": "f6409a5e-af91-4a81-81d9-ca1f788e2122"
      },
      "source": [
        "mylist = [ 1, 2, 3, 4]\n",
        "mylist.append(\"foo\")\n",
        "print(mylist)"
      ],
      "execution_count": 19,
      "outputs": [
        {
          "output_type": "stream",
          "text": [
            "[1, 2, 3, 4, 'foo']\n"
          ],
          "name": "stdout"
        }
      ]
    },
    {
      "cell_type": "markdown",
      "metadata": {
        "id": "ZBAzBaat_5I1"
      },
      "source": [
        "Here we used the *append* method, which is specific to the list class and is used to add an element at the end of a list. Just to see that the second syntax also works:"
      ]
    },
    {
      "cell_type": "code",
      "metadata": {
        "colab": {
          "base_uri": "https://localhost:8080/"
        },
        "id": "LSU3U0ZB_3aG",
        "outputId": "a318d3a3-d043-41f6-b647-f596746eee62"
      },
      "source": [
        "mylist = [1,2,3,4]\n",
        "list.append(mylist,\"foo\")\n",
        "print(mylist)"
      ],
      "execution_count": 22,
      "outputs": [
        {
          "output_type": "stream",
          "text": [
            "[1, 2, 3, 4, 'foo']\n"
          ],
          "name": "stdout"
        }
      ]
    },
    {
      "cell_type": "code",
      "metadata": {
        "id": "_QIJAeNLABj6"
      },
      "source": [
        ""
      ],
      "execution_count": null,
      "outputs": []
    }
  ]
}