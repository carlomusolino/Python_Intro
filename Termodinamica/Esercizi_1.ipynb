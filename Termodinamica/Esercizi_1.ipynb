{
  "nbformat": 4,
  "nbformat_minor": 0,
  "metadata": {
    "colab": {
      "name": "Esercizi_1.ipynb",
      "provenance": [],
      "collapsed_sections": [],
      "authorship_tag": "ABX9TyPnuMw7D04dIqbezmK290Tq",
      "include_colab_link": true
    },
    "kernelspec": {
      "name": "python3",
      "display_name": "Python 3"
    },
    "language_info": {
      "name": "python"
    }
  },
  "cells": [
    {
      "cell_type": "markdown",
      "metadata": {
        "id": "view-in-github",
        "colab_type": "text"
      },
      "source": [
        "<a href=\"https://colab.research.google.com/github/carlomusolino/Python_Intro/blob/main/Termodinamica/Esercizi_1.ipynb\" target=\"_parent\"><img src=\"https://colab.research.google.com/assets/colab-badge.svg\" alt=\"Open In Colab\"/></a>"
      ]
    },
    {
      "cell_type": "code",
      "metadata": {
        "id": "MEuR7VAGZwU9"
      },
      "source": [
        ""
      ],
      "execution_count": null,
      "outputs": []
    },
    {
      "cell_type": "markdown",
      "metadata": {
        "id": "T35P1xKDZxQH"
      },
      "source": [
        "$$\n",
        "m_{metallo}=0.1kg\\\\\n",
        "m_{H_2O}=0.5kg\\\\\n",
        "m_{recipiente} = 0.2kg \\\\\n",
        "T_{metallo} = 373.15 K \\\\\n",
        "T_{H_2O} = 294.45 K \\\\\n",
        "T_{recipiente} = T_{H_2O}\n",
        "$$\n"
      ]
    },
    {
      "cell_type": "code",
      "metadata": {
        "id": "hvz5Dvy4asFT"
      },
      "source": [
        "m1 = 0.1\n",
        "m2 = 0.5 \n",
        "m3 = 0.2 \n",
        "T1 = 373.15\n",
        "T2 = 290.45\n",
        "Tf = 295.84999999999997\n",
        "c2 = 4186 \n"
      ],
      "execution_count": 12,
      "outputs": []
    },
    {
      "cell_type": "code",
      "metadata": {
        "id": "dcg7-RuqcAnK"
      },
      "source": [
        ""
      ],
      "execution_count": null,
      "outputs": []
    },
    {
      "cell_type": "markdown",
      "metadata": {
        "id": "R_KGn6nka5Kk"
      },
      "source": [
        "$$\n",
        "\\delta Q_{metallo} = - ( \\delta Q_{H_2O} + \\delta Q_{recipiente} )  \\\\\n",
        "\\delta Q_{i} = c_i m_i \\Delta T_i  \n",
        "$$\n",
        "\n",
        "$$\n",
        "c_{metallo} = \\frac{- c_{H_2O}m_{H_2O}\\Delta T_{H_2O}}{m_{metallo} \\Delta T_{metallo} + m_{recipiente} \\Delta T_{H_2O}}\n",
        "$$\n"
      ]
    },
    {
      "cell_type": "code",
      "metadata": {
        "colab": {
          "base_uri": "https://localhost:8080/"
        },
        "id": "tSt_AkXCbXyC",
        "outputId": "08134c54-444d-40e6-fe98-530f1fc9e2d9"
      },
      "source": [
        "c1 = (- c2 * m2 * (Tf - T2) )/(m1*(Tf-T1) + m3*(Tf-T2))\n",
        "print(\"Calore specifico del metallo: {}\".format(c1))"
      ],
      "execution_count": 13,
      "outputs": [
        {
          "output_type": "stream",
          "text": [
            "Calore specifico del metallo: 1699.5789473684124\n"
          ],
          "name": "stdout"
        }
      ]
    },
    {
      "cell_type": "markdown",
      "metadata": {
        "id": "3qiJ0OgT11sh"
      },
      "source": [
        "**Esercizio 2**\n",
        "$$\n",
        "c_{l} = c_{H_2O} = 4186 \\frac{J}{kg\\,K}\\\\\n",
        "\\lambda_{H_2O} = 2272\\,\\frac{kJ}{kg}\\\\\n",
        "T_l = 5^\\circ C \\\\\n",
        "T_{H_2O} = 100^\\circ C \\\\\n",
        "T_{f} = 22.7^\\circ C\n",
        "$$\n",
        "\n",
        "$$\n",
        "\\delta Q_{l} = -  \\delta Q_{H_2O} \\\\\n",
        "c \\, m_l \\Delta T_l = \\lambda\\, m_{H_2O} - c\\, m_{H_2O} \\Delta T_{H_2O} \n",
        "$$"
      ]
    },
    {
      "cell_type": "code",
      "metadata": {
        "id": "eEX2P6lDcyh6",
        "colab": {
          "base_uri": "https://localhost:8080/"
        },
        "outputId": "a59f6af1-f18b-4d88-dccc-23cacba951e4"
      },
      "source": [
        "c = 4186\n",
        "lamb = 2272e03 \n",
        "Tl = 5+273.15\n",
        "Tv = 100+273.15\n",
        "Tf = 22.7+273.15 \n",
        "\n",
        "\n",
        "mv_ml = (c * (Tf-Tl))/(- lamb - c * (Tf - Tv))\n",
        "\n",
        "print(\"m_l / m_tot : {}%\".format(100/1+mv_ml))"
      ],
      "execution_count": 19,
      "outputs": [
        {
          "output_type": "stream",
          "text": [
            "m_l / m_tot : 99.96197323146903%\n"
          ],
          "name": "stdout"
        }
      ]
    },
    {
      "cell_type": "markdown",
      "metadata": {
        "id": "VvEZtdzR4Yz_"
      },
      "source": [
        "**Esercizio 1 (Gas perfetti)**\n",
        "$$\n",
        "P_A = 300 kPa \\\\\n",
        "P_B = 100 kPa \\\\ \n",
        "V_A = 6 l \\\\ \n",
        "V_B = 2 l \\\\\n",
        "$$"
      ]
    },
    {
      "cell_type": "code",
      "metadata": {
        "colab": {
          "base_uri": "https://localhost:8080/"
        },
        "id": "wTLIspMo3I_8",
        "outputId": "665a5068-1e50-4d55-d841-71de91872079"
      },
      "source": [
        "PA = 300e03\n",
        "PB = 100e03\n",
        "VA = 6e-03\n",
        "VB = 2e-03 \n",
        "R = 8.31\n",
        "n = 0.5 \n",
        "\n",
        "W = -(  PB*(VA-VB) + (PA-PB)*(VA-VB)/2 ) \n",
        "print(\"Lavoro compiuto dal gas : {}J\".format(W))"
      ],
      "execution_count": 29,
      "outputs": [
        {
          "output_type": "stream",
          "text": [
            "Lavoro compiuto dal gas : -800.0J\n"
          ],
          "name": "stdout"
        }
      ]
    },
    {
      "cell_type": "code",
      "metadata": {
        "colab": {
          "base_uri": "https://localhost:8080/"
        },
        "id": "YpkNCgFD5Sjj",
        "outputId": "e1f54e25-7b3e-42be-e0fc-7280678e61cd"
      },
      "source": [
        "TA = PA * VA / ( n * R )\n",
        "TB = PB * VB / ( n * R )\n",
        "dU = 3 / 2 * n * R * (TB - TA)\n",
        "\n",
        "print(\"Variazione di Energia interna: {} J \".format(dU))"
      ],
      "execution_count": 30,
      "outputs": [
        {
          "output_type": "stream",
          "text": [
            "Variazione di Energia interna: -2399.9999999999995 J \n"
          ],
          "name": "stdout"
        }
      ]
    },
    {
      "cell_type": "code",
      "metadata": {
        "colab": {
          "base_uri": "https://localhost:8080/"
        },
        "id": "rmqpKvch5g2T",
        "outputId": "08baf6c5-83a5-4c83-94ac-5617ca7c0cec"
      },
      "source": [
        "dQ = dU + W\n",
        "print(\"Calore scambiato dal sistema: {}J\".format(dQ))"
      ],
      "execution_count": 31,
      "outputs": [
        {
          "output_type": "stream",
          "text": [
            "Calore scambiato dal sistema: -3199.9999999999995J\n"
          ],
          "name": "stdout"
        }
      ]
    },
    {
      "cell_type": "markdown",
      "metadata": {
        "id": "7-1CwgQZ6wyL"
      },
      "source": [
        "**Esercizio 3**\n",
        "$$\n",
        "C_V = 6 \\frac{cal}{mol K} \\\\ \n",
        "n = 3 mol\\\\ \n",
        "\\Delta T = 50 K \n",
        "$$"
      ]
    },
    {
      "cell_type": "code",
      "metadata": {
        "colab": {
          "base_uri": "https://localhost:8080/"
        },
        "id": "Wo_N7Nmo6XhC",
        "outputId": "f5b0aee3-876b-4751-e473-b26400c84cc4"
      },
      "source": [
        "cV = 6 * 4.186 \n",
        "cP = R + cV\n",
        "n = 3 \n",
        "dT = 50 \n",
        "\n",
        "\n",
        "n_gl = 2 * cV / R \n",
        "print(\"Numero di gradi di libertà: {}\".format(int(n_gl)))"
      ],
      "execution_count": 38,
      "outputs": [
        {
          "output_type": "stream",
          "text": [
            "Numero di gradi di libertà: 6\n"
          ],
          "name": "stdout"
        }
      ]
    },
    {
      "cell_type": "markdown",
      "metadata": {
        "id": "fTutIo317VhI"
      },
      "source": [
        "Isocora"
      ]
    },
    {
      "cell_type": "code",
      "metadata": {
        "colab": {
          "base_uri": "https://localhost:8080/"
        },
        "id": "prZi6BYx7Uzl",
        "outputId": "b9a05c38-0875-4d77-b789-af789984bf96"
      },
      "source": [
        "dU = n * cV * dT \n",
        "W = 0\n",
        "dQ = dU \n",
        "\n",
        "print(\"Variazione di Energia interna: {:.2f} J\".format(dU))\n",
        "print(\"Calore scambiato: {:.2f} J\".format(dQ))\n",
        "print(\"Lavoro compiuto dal gas: {:.2f} J\".format(W))"
      ],
      "execution_count": 39,
      "outputs": [
        {
          "output_type": "stream",
          "text": [
            "Variazione di Energia interna: 3767.4J\n",
            "Calore scambiato: 3767.4J\n",
            "Lavoro compiuto dal gas: 0J\n"
          ],
          "name": "stdout"
        }
      ]
    },
    {
      "cell_type": "markdown",
      "metadata": {
        "id": "lbA04vbV7rTJ"
      },
      "source": [
        "Isobara"
      ]
    },
    {
      "cell_type": "code",
      "metadata": {
        "colab": {
          "base_uri": "https://localhost:8080/"
        },
        "id": "-QYZ-6O47JRR",
        "outputId": "2e686fc0-b2c5-4240-9e21-ef89eafa64bf"
      },
      "source": [
        "W = n*R*dT \n",
        "dQ = n * cP * dT \n",
        "dU = dQ - W \n",
        "\n",
        "print(\"Variazione di Energia interna: {:.2f} J\".format(dU))\n",
        "print(\"Calore scambiato: {:.2f} J\".format(dQ))\n",
        "print(\"Lavoro compiuto dal gas: {:.2f} J\".format(W))"
      ],
      "execution_count": 43,
      "outputs": [
        {
          "output_type": "stream",
          "text": [
            "Variazione di Energia interna: 3767.40J\n",
            "Calore scambiato: 5013.90J\n",
            "Lavoro compiuto dal gas: 1246.50J\n"
          ],
          "name": "stdout"
        }
      ]
    },
    {
      "cell_type": "markdown",
      "metadata": {
        "id": "gYe77w6k81hc"
      },
      "source": [
        "Adiabatica"
      ]
    },
    {
      "cell_type": "code",
      "metadata": {
        "colab": {
          "base_uri": "https://localhost:8080/"
        },
        "id": "2MTFYEU_728k",
        "outputId": "6f221c6a-ba9d-41d2-ee7b-7029a7438ab7"
      },
      "source": [
        "dU = n * cV * dT \n",
        "dQ = 0 \n",
        "W  = - dU \n",
        "\n",
        "print(\"Variazione di Energia interna: {:.2f} J\".format(dU))\n",
        "print(\"Calore scambiato: {:.2f} J\".format(dQ))\n",
        "print(\"Lavoro compiuto dal gas: {:.2f} J\".format(W))"
      ],
      "execution_count": 42,
      "outputs": [
        {
          "output_type": "stream",
          "text": [
            "Variazione di Energia interna: 3767.40J\n",
            "Calore scambiato: 0.00J\n",
            "Lavoro compiuto dal gas: -3767.40J\n"
          ],
          "name": "stdout"
        }
      ]
    },
    {
      "cell_type": "code",
      "metadata": {
        "id": "J7hF_bE69GsO"
      },
      "source": [
        ""
      ],
      "execution_count": 42,
      "outputs": []
    }
  ]
}