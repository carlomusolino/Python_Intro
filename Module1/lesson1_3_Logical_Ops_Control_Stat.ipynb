{
  "nbformat": 4,
  "nbformat_minor": 0,
  "metadata": {
    "colab": {
      "name": "lesson1_3_Logical_Ops_Control_Stat.ipynb",
      "provenance": [],
      "authorship_tag": "ABX9TyOctVESgIdmfVOtOxVqIkn0",
      "include_colab_link": true
    },
    "kernelspec": {
      "name": "python3",
      "display_name": "Python 3"
    },
    "language_info": {
      "name": "python"
    }
  },
  "cells": [
    {
      "cell_type": "markdown",
      "metadata": {
        "id": "view-in-github",
        "colab_type": "text"
      },
      "source": [
        "<a href=\"https://colab.research.google.com/github/carlomusolino/Python_Intro/blob/main/Module1/lesson1_3_Logical_Ops_Control_Stat.ipynb\" target=\"_parent\"><img src=\"https://colab.research.google.com/assets/colab-badge.svg\" alt=\"Open In Colab\"/></a>"
      ]
    },
    {
      "cell_type": "markdown",
      "metadata": {
        "id": "zoxcQi2oBBjN"
      },
      "source": [
        "#**Logical Operators**\n",
        "\n",
        "Before we can move on to more interesting topics, we need to briefly introduce Python's logical operators. Essentially, a logical operator acts on two variables and returns a *boolean* output value. Let us start with numerical comparison operators:"
      ]
    },
    {
      "cell_type": "code",
      "metadata": {
        "colab": {
          "base_uri": "https://localhost:8080/"
        },
        "id": "qTmO5UM7BAvD",
        "outputId": "fd5f97ce-02f5-4054-f64d-94f12235535e"
      },
      "source": [
        "a = 1\n",
        "b = 2 \n",
        "c = 1\n",
        "a == b, a == c, b > a, c < b, a >= c , a <= b, c != a "
      ],
      "execution_count": 1,
      "outputs": [
        {
          "output_type": "execute_result",
          "data": {
            "text/plain": [
              "(False, True, True, True, True, True, False)"
            ]
          },
          "metadata": {
            "tags": []
          },
          "execution_count": 1
        }
      ]
    },
    {
      "cell_type": "markdown",
      "metadata": {
        "id": "5K1e1gRNBpZT"
      },
      "source": [
        "These are pretty self explanatory. We have.\n",
        "\n",
        "1.   The *equal to* operator `==` ( not to be confused with the assignment operator `= `);\n",
        "2.   The *greater/smaller than*` > < `operators;\n",
        "3.   The *greater/smaller than or equal to* `>= <=` operators;\n",
        "4.   And t*he not equal to* `!=` operator\n",
        "\n",
        "Number 1. and 4. on the list also apply to non-numeric data types: "
      ]
    },
    {
      "cell_type": "code",
      "metadata": {
        "colab": {
          "base_uri": "https://localhost:8080/"
        },
        "id": "Opt8V4kxBm6X",
        "outputId": "877ce2fb-8b59-4087-9315-1841c5de56a2"
      },
      "source": [
        "a = \"foo\"\n",
        "b = \"bar\"\n",
        "c = \"foo\"\n",
        "a == c, b==a, b!=c"
      ],
      "execution_count": 2,
      "outputs": [
        {
          "output_type": "execute_result",
          "data": {
            "text/plain": [
              "(True, False, True)"
            ]
          },
          "metadata": {
            "tags": []
          },
          "execution_count": 2
        }
      ]
    },
    {
      "cell_type": "markdown",
      "metadata": {
        "id": "ZnZqzi7tC4UV"
      },
      "source": [
        "Then we have a very useful operator that can be used on container data types:"
      ]
    },
    {
      "cell_type": "code",
      "metadata": {
        "colab": {
          "base_uri": "https://localhost:8080/"
        },
        "id": "r7S6IbvzC1NY",
        "outputId": "0db29c0d-912d-4666-f905-f2ed38ca43cf"
      },
      "source": [
        "a = \"foo\"\n",
        "b = [\"a\",\"foo\",34]\n",
        "c = [1,2,3]\n",
        "a in b, a in c, 1 in c"
      ],
      "execution_count": 4,
      "outputs": [
        {
          "output_type": "execute_result",
          "data": {
            "text/plain": [
              "(True, False, True)"
            ]
          },
          "metadata": {
            "tags": []
          },
          "execution_count": 4
        }
      ]
    },
    {
      "cell_type": "markdown",
      "metadata": {
        "id": "GrCjSZlYDHpy"
      },
      "source": [
        "Which tells us wether a certain piece of data appears within a given container. This pretty much wraps up the basics on logical operators, more advanced examples will be covered later on (probably...)."
      ]
    },
    {
      "cell_type": "markdown",
      "metadata": {
        "id": "fGms_dfjDa9D"
      },
      "source": [
        "# **Control Flow Statements**\n",
        "\n",
        "Usually, when we execute a Python script, each line of code is interpreted and executed starting from the top all the way to the bottom. This behaviour can be modified if an error occurs during the execution or if a control flow statement is present. These come in two essential types: **cycles**, where we execute a certain block of code (or a **suite**, in Python jargon) repetitively a certain number of times, and **branch** statements, where depending on a given condition different **suites** can be executed.\n",
        "We'll start by considering conditional branching statements, but first, let us introduce some more terminology. Given a variable of a certain type, we can *cast* that variable into another type:"
      ]
    },
    {
      "cell_type": "code",
      "metadata": {
        "colab": {
          "base_uri": "https://localhost:8080/"
        },
        "id": "fVn62-1ZDGwQ",
        "outputId": "45b06f1c-b74b-47db-f6e8-7dccba292fa1"
      },
      "source": [
        "a = 1 \n",
        "type(a)"
      ],
      "execution_count": 12,
      "outputs": [
        {
          "output_type": "execute_result",
          "data": {
            "text/plain": [
              "int"
            ]
          },
          "metadata": {
            "tags": []
          },
          "execution_count": 12
        }
      ]
    },
    {
      "cell_type": "code",
      "metadata": {
        "colab": {
          "base_uri": "https://localhost:8080/"
        },
        "id": "rQ4J5Ci4GD2i",
        "outputId": "fbd2c653-23ad-4ff9-f4bd-488a332a7dd4"
      },
      "source": [
        "a = str(a)\n",
        "type(a)"
      ],
      "execution_count": 17,
      "outputs": [
        {
          "output_type": "execute_result",
          "data": {
            "text/plain": [
              "str"
            ]
          },
          "metadata": {
            "tags": []
          },
          "execution_count": 17
        }
      ]
    },
    {
      "cell_type": "markdown",
      "metadata": {
        "id": "k-5I8_FGGeSP"
      },
      "source": [
        "Now, in conditional branch statements we deal with something that looks like this;\n",
        "\n",
        "```\n",
        "if condition_1 :\n",
        "  suite_1\n",
        "elif condition_2 :\n",
        "  suite_2\n",
        ".\n",
        ".\n",
        ".\n",
        "else :\n",
        "condition_N\n",
        "```\n",
        "We'll deal with the specifics in what follows, but for now what we need to understand is that whatever each `condition` is Python will cast it to a *boolean* value: *True* or *False*. Anything that is not the special value *None*, the number $0$, or an empty string or list will evaluate to *True*:\n",
        "\n",
        "\n",
        "\n"
      ]
    },
    {
      "cell_type": "code",
      "metadata": {
        "colab": {
          "base_uri": "https://localhost:8080/"
        },
        "id": "leFgpRHeGHd2",
        "outputId": "a21b92ad-b4c0-4127-e9d6-9bcbf2b5a0a2"
      },
      "source": [
        "a = 1 \n",
        "b = 1000.000\n",
        "c = \"foo\"\n",
        "d = None\n",
        "e = []\n",
        "f = \"\" \n",
        "g = 0\n",
        "\n",
        "bool(a),bool(b),bool(c),bool(d),bool(e),bool(f),bool(g)"
      ],
      "execution_count": 18,
      "outputs": [
        {
          "output_type": "execute_result",
          "data": {
            "text/plain": [
              "(True, True, True, False, False, False, False)"
            ]
          },
          "metadata": {
            "tags": []
          },
          "execution_count": 18
        }
      ]
    },
    {
      "cell_type": "markdown",
      "metadata": {
        "id": "Fi3Rq1kcHQIX"
      },
      "source": [
        "#**The if... else statement**\n"
      ]
    },
    {
      "cell_type": "markdown",
      "metadata": {
        "id": "hM3GNrJNHQBY"
      },
      "source": [
        ""
      ]
    },
    {
      "cell_type": "code",
      "metadata": {
        "id": "fCvwtaUxHN8R"
      },
      "source": [
        ""
      ],
      "execution_count": null,
      "outputs": []
    }
  ]
}