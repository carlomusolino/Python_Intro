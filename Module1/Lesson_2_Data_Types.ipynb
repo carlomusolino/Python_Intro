{
  "nbformat": 4,
  "nbformat_minor": 0,
  "metadata": {
    "colab": {
      "name": "Lesson_2_Data_Types.ipynb",
      "provenance": [],
      "collapsed_sections": [],
      "authorship_tag": "ABX9TyOkNjelMS78jE2uwzNP6w6/",
      "include_colab_link": true
    },
    "kernelspec": {
      "name": "python3",
      "display_name": "Python 3"
    },
    "language_info": {
      "name": "python"
    }
  },
  "cells": [
    {
      "cell_type": "markdown",
      "metadata": {
        "id": "view-in-github",
        "colab_type": "text"
      },
      "source": [
        "<a href=\"https://colab.research.google.com/github/carlomusolino/Python_Intro/blob/main/Module1/Lesson_2_Data_Types.ipynb\" target=\"_parent\"><img src=\"https://colab.research.google.com/assets/colab-badge.svg\" alt=\"Open In Colab\"/></a>"
      ]
    },
    {
      "cell_type": "markdown",
      "metadata": {
        "id": "LPFpSVJL1DUp"
      },
      "source": [
        "# **Data Types Revisited** \n",
        "\n",
        "We'll now take a closer look at all the possible data types in Python so that we can stop worrying about them once and for all.\n",
        "\n",
        "## **Identifiers**\n",
        "\n",
        "An identifier is simply the name we give to a certain variable. For example if we were to type into Python ``a=1``we'd be defining a variable of type `` int``and giving it the identifier ``a``.\n",
        "There are rules which establish what we can and can't use as a valid identifier in Python. Essentially we want a sequence of alphanumerical characters (we can actually use all UTF-8 characters but please, don't) where the first must be a letter or an underscore. It is generally a bad idea to start the name of a variable by an underscore since these names are often reserved by Python to indicate special functions pertaining to classes (we'll cover them later on). Another rule is that variable identifiers cannot match any of Python's protected keywords: such as ``if``, ``for``,``break``, ``return``, and so on.\n",
        "\n",
        "## **Numerical data**\n",
        "\n",
        "We'll now give a comprehensive list of the basic built-in mathematical operators that Python offers, and specify those that can only be used on integers:\n",
        "\n",
        "\n",
        "\n",
        "*   ``x+y``addition of x and y\n",
        "*   ``x-y``change of sign/subtraction of y from x\n",
        "*   ``x*y``multiplication of x and y\n",
        "*   ``x**y`` x to the power of y, same as ``pow(x,y```\n",
        "*   ``x/y``  x divided by y\n",
        "*   ``x//y`` integer division (returns an int)\n",
        "*   ``x % y`` x modulo y (remainder of x // y, only for ``int``-type)\n",
        "*   ``abs(x)``absolute value of x\n",
        "*   ``x+=y`` is shorthand for ``x = x+y```\n",
        "*   ``x-=y`` \n",
        "*   ``x*=y```\n",
        "*   ``x/=y``\n",
        "\n",
        "\n",
        "## **Strings**\n",
        "Strings offer us a practical way of transitioning from basic data-types to collections of data. In fact, to the eyes of Python a string is nothing but a sequence or list of characters! Let's start with the basics. A string in Python is any sequence of UTF-8 characters delimited by single or double quotation marks:\n",
        "\n"
      ]
    },
    {
      "cell_type": "code",
      "metadata": {
        "id": "HsKePQ8A5YiI"
      },
      "source": [
        "a  = \"This is a string!\"\n",
        "b  = 'This is also a string!' \n",
        "c  = \" even 'this' is a string!\""
      ],
      "execution_count": null,
      "outputs": []
    },
    {
      "cell_type": "markdown",
      "metadata": {
        "id": "KLJ6kqp65Nms"
      },
      "source": [
        "The only important thing is that the two delimiters must be the same. We can access single characters within a string as we would elements in a list. For example:"
      ]
    },
    {
      "cell_type": "code",
      "metadata": {
        "colab": {
          "base_uri": "https://localhost:8080/"
        },
        "id": "We_yDV7X5hM7",
        "outputId": "6a2e8f91-06c9-4a04-ffe6-9f399ac23ae6"
      },
      "source": [
        "len(a)"
      ],
      "execution_count": null,
      "outputs": [
        {
          "output_type": "execute_result",
          "data": {
            "text/plain": [
              "17"
            ]
          },
          "metadata": {
            "tags": []
          },
          "execution_count": 5
        }
      ]
    },
    {
      "cell_type": "code",
      "metadata": {
        "colab": {
          "base_uri": "https://localhost:8080/"
        },
        "id": "j_GZP-Q_5huJ",
        "outputId": "c8e4f080-ef20-443b-cd4b-c92eb89d1025"
      },
      "source": [
        "a[0], a[2], a[5]"
      ],
      "execution_count": null,
      "outputs": [
        {
          "output_type": "execute_result",
          "data": {
            "text/plain": [
              "('T', 'i', 'i')"
            ]
          },
          "metadata": {
            "tags": []
          },
          "execution_count": 6
        }
      ]
    },
    {
      "cell_type": "markdown",
      "metadata": {
        "id": "X7rQx11B5o66"
      },
      "source": [
        "Now we introduce some indexing techniques that are often very useful when dealing with aggregate data. All lists in python (as well as arrays, which we will encounter later on) can be accessed from the start, using increasing indices starting from 0, or from the end, using decreasing indices starting from -1. So:"
      ]
    },
    {
      "cell_type": "code",
      "metadata": {
        "colab": {
          "base_uri": "https://localhost:8080/"
        },
        "id": "ZAMQi-6R5kFj",
        "outputId": "d399a8ba-c33d-4b52-b70b-c0aceb9d26ef"
      },
      "source": [
        "a[16],a[-1]"
      ],
      "execution_count": null,
      "outputs": [
        {
          "output_type": "execute_result",
          "data": {
            "text/plain": [
              "('!', '!')"
            ]
          },
          "metadata": {
            "tags": []
          },
          "execution_count": 7
        }
      ]
    },
    {
      "cell_type": "markdown",
      "metadata": {
        "id": "QMRN--0B6Bem"
      },
      "source": [
        "We can also access sections of a list via index **slicing**, the general syntax going as follows:\n",
        "```\n",
        "list[start:end:step]\n",
        "```\n",
        "We can omit any of those, and they default to the obvious values: ``0``for start, ``-1``for end, ``1``for step\n",
        "So for example:"
      ]
    },
    {
      "cell_type": "code",
      "metadata": {
        "colab": {
          "base_uri": "https://localhost:8080/",
          "height": 35
        },
        "id": "l-l6PCFL5_BE",
        "outputId": "7bdd4cb8-0c12-44ca-aae0-e3d62b88de2a"
      },
      "source": [
        "a[0:4:1]"
      ],
      "execution_count": null,
      "outputs": [
        {
          "output_type": "execute_result",
          "data": {
            "application/vnd.google.colaboratory.intrinsic+json": {
              "type": "string"
            },
            "text/plain": [
              "'This'"
            ]
          },
          "metadata": {
            "tags": []
          },
          "execution_count": 10
        }
      ]
    },
    {
      "cell_type": "code",
      "metadata": {
        "colab": {
          "base_uri": "https://localhost:8080/",
          "height": 35
        },
        "id": "5QR6AGxx6Sx6",
        "outputId": "baa35231-7700-4f94-bb4b-1583f75cf938"
      },
      "source": [
        "a[0:4]"
      ],
      "execution_count": null,
      "outputs": [
        {
          "output_type": "execute_result",
          "data": {
            "application/vnd.google.colaboratory.intrinsic+json": {
              "type": "string"
            },
            "text/plain": [
              "'This'"
            ]
          },
          "metadata": {
            "tags": []
          },
          "execution_count": 11
        }
      ]
    },
    {
      "cell_type": "code",
      "metadata": {
        "colab": {
          "base_uri": "https://localhost:8080/",
          "height": 35
        },
        "id": "1laFGJRF6i-4",
        "outputId": "889c341a-e8a9-423b-b749-76367eb56854"
      },
      "source": [
        "a[:4]"
      ],
      "execution_count": null,
      "outputs": [
        {
          "output_type": "execute_result",
          "data": {
            "application/vnd.google.colaboratory.intrinsic+json": {
              "type": "string"
            },
            "text/plain": [
              "'This'"
            ]
          },
          "metadata": {
            "tags": []
          },
          "execution_count": 12
        }
      ]
    },
    {
      "cell_type": "code",
      "metadata": {
        "colab": {
          "base_uri": "https://localhost:8080/",
          "height": 35
        },
        "id": "K1IGKDjp6j1e",
        "outputId": "6dfca01d-79e9-4737-a14d-b5a95df3bc82"
      },
      "source": [
        "a[0::2]"
      ],
      "execution_count": null,
      "outputs": [
        {
          "output_type": "execute_result",
          "data": {
            "application/vnd.google.colaboratory.intrinsic+json": {
              "type": "string"
            },
            "text/plain": [
              "'Ti sasrn!'"
            ]
          },
          "metadata": {
            "tags": []
          },
          "execution_count": 18
        }
      ]
    },
    {
      "cell_type": "code",
      "metadata": {
        "colab": {
          "base_uri": "https://localhost:8080/",
          "height": 35
        },
        "id": "a-GDbW3T6wE6",
        "outputId": "4c3d1cd3-bec0-445d-ae20-5e70bbc784ee"
      },
      "source": [
        "a[::2]"
      ],
      "execution_count": null,
      "outputs": [
        {
          "output_type": "execute_result",
          "data": {
            "application/vnd.google.colaboratory.intrinsic+json": {
              "type": "string"
            },
            "text/plain": [
              "'Ti sasrn!'"
            ]
          },
          "metadata": {
            "tags": []
          },
          "execution_count": 15
        }
      ]
    },
    {
      "cell_type": "markdown",
      "metadata": {
        "id": "GeI3GD1P6okC"
      },
      "source": [
        "Experiment with these, it takes some getting used to."
      ]
    },
    {
      "cell_type": "markdown",
      "metadata": {
        "id": "I5pdItPC7Vuk"
      },
      "source": [
        "# **Collection Data Types**\n",
        "\n",
        "We'll now discuss data types which consist of a collection of data elements of different classes. We'll start by briefly going back to lists and tuples to then move on to a new, very important, Python data type: the Dictionary.\n",
        "\n",
        "# **Sequences**\n",
        "\n",
        "Sequence types are all of those data classes that support the ``len()``method, are ``iterable``(we'll see shortly what this exactly means) and can be sliced using the ``[]``operator. These are essentially  ``str``,``tuples``and ``lists``(plus another couple variants of these that are not very commonly used, being ``bytearray``and ``bytes``. As we've already discussed, a ``tuple``is a sequence of data that cannot be modified once it is defined, the sintax for defining a ``tuple``is as follows:"
      ]
    },
    {
      "cell_type": "code",
      "metadata": {
        "id": "X8Sghrex6lkT"
      },
      "source": [
        "a = 12\n",
        "mytuple = (1,a,\"hello!!\")"
      ],
      "execution_count": 19,
      "outputs": []
    },
    {
      "cell_type": "markdown",
      "metadata": {
        "id": "i_Yfb1GBFTkz"
      },
      "source": [
        "\n",
        "Lists are very similar to tuples, but unlike those, we can modify a list once it has been created, meaning we can replace, add, or remove items from it. Lists and tuples' elements can be accessed via the slicing operator ``[]``exactly in the same way as strings' characters. Here's a list of useful methods which apply to lists: (in all that follows, ``myList`` is a ``list``type object)\n",
        "\n",
        "\n",
        "*   ``myList.append(x)``appends ``x``at the end of the list\n",
        "*   ``myList.count(x)``counts the number of occurrences of the element ``x``in the list\n",
        "*   ``myList.remove(x)``removes the earliest occurence of item ``x``from the list\n",
        "*   ``myList.pop(i)``returns and removes the element at index ``i``\n",
        "*   ``myList.insert(i,x) ``inserts item ``x``at index i in the list\n",
        "\n",
        "\n",
        "\n"
      ]
    },
    {
      "cell_type": "code",
      "metadata": {
        "id": "muRfESq1FS5s"
      },
      "source": [
        ""
      ],
      "execution_count": null,
      "outputs": []
    }
  ]
}