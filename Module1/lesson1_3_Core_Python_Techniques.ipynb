{
  "nbformat": 4,
  "nbformat_minor": 0,
  "metadata": {
    "colab": {
      "name": "lesson1_3_Core_Python_Techniques.ipynb",
      "provenance": [],
      "collapsed_sections": [],
      "authorship_tag": "ABX9TyPy6haqpDa4aSduEMkukf/W",
      "include_colab_link": true
    },
    "kernelspec": {
      "name": "python3",
      "display_name": "Python 3"
    },
    "language_info": {
      "name": "python"
    }
  },
  "cells": [
    {
      "cell_type": "markdown",
      "metadata": {
        "id": "view-in-github",
        "colab_type": "text"
      },
      "source": [
        "<a href=\"https://colab.research.google.com/github/carlomusolino/Python_Intro/blob/main/Module1/lesson1_3_Core_Python_Techniques.ipynb\" target=\"_parent\"><img src=\"https://colab.research.google.com/assets/colab-badge.svg\" alt=\"Open In Colab\"/></a>"
      ]
    },
    {
      "cell_type": "markdown",
      "metadata": {
        "id": "zoxcQi2oBBjN"
      },
      "source": [
        "#**Logical Operators**\n",
        "\n",
        "Before we can move on to more interesting topics, we need to briefly introduce Python's logical operators. Essentially, a logical operator acts on two variables and returns a *boolean* output value. Let us start with numerical comparison operators:"
      ]
    },
    {
      "cell_type": "code",
      "metadata": {
        "colab": {
          "base_uri": "https://localhost:8080/"
        },
        "id": "qTmO5UM7BAvD",
        "outputId": "fd5f97ce-02f5-4054-f64d-94f12235535e"
      },
      "source": [
        "a = 1\n",
        "b = 2 \n",
        "c = 1\n",
        "a == b, a == c, b > a, c < b, a >= c , a <= b, c != a "
      ],
      "execution_count": null,
      "outputs": [
        {
          "output_type": "execute_result",
          "data": {
            "text/plain": [
              "(False, True, True, True, True, True, False)"
            ]
          },
          "metadata": {
            "tags": []
          },
          "execution_count": 1
        }
      ]
    },
    {
      "cell_type": "markdown",
      "metadata": {
        "id": "5K1e1gRNBpZT"
      },
      "source": [
        "These are pretty self explanatory. We have.\n",
        "\n",
        "1.   The *equal to* operator `==` ( not to be confused with the assignment operator `= `);\n",
        "2.   The *greater/smaller than*` > < `operators;\n",
        "3.   The *greater/smaller than or equal to* `>= <=` operators;\n",
        "4.   And t*he not equal to* `!=` operator\n",
        "\n",
        "Number 1. and 4. on the list also apply to non-numeric data types: "
      ]
    },
    {
      "cell_type": "code",
      "metadata": {
        "colab": {
          "base_uri": "https://localhost:8080/"
        },
        "id": "Opt8V4kxBm6X",
        "outputId": "877ce2fb-8b59-4087-9315-1841c5de56a2"
      },
      "source": [
        "a = \"foo\"\n",
        "b = \"bar\"\n",
        "c = \"foo\"\n",
        "a == c, b==a, b!=c"
      ],
      "execution_count": null,
      "outputs": [
        {
          "output_type": "execute_result",
          "data": {
            "text/plain": [
              "(True, False, True)"
            ]
          },
          "metadata": {
            "tags": []
          },
          "execution_count": 2
        }
      ]
    },
    {
      "cell_type": "markdown",
      "metadata": {
        "id": "ZnZqzi7tC4UV"
      },
      "source": [
        "Then we have a very useful operator that can be used on container data types:"
      ]
    },
    {
      "cell_type": "code",
      "metadata": {
        "colab": {
          "base_uri": "https://localhost:8080/"
        },
        "id": "r7S6IbvzC1NY",
        "outputId": "0db29c0d-912d-4666-f905-f2ed38ca43cf"
      },
      "source": [
        "a = \"foo\"\n",
        "b = [\"a\",\"foo\",34]\n",
        "c = [1,2,3]\n",
        "a in b, a in c, 1 in c"
      ],
      "execution_count": null,
      "outputs": [
        {
          "output_type": "execute_result",
          "data": {
            "text/plain": [
              "(True, False, True)"
            ]
          },
          "metadata": {
            "tags": []
          },
          "execution_count": 4
        }
      ]
    },
    {
      "cell_type": "markdown",
      "metadata": {
        "id": "GrCjSZlYDHpy"
      },
      "source": [
        "Which tells us wether a certain piece of data appears within a given container. This pretty much wraps up the basics on logical operators, more advanced examples will be covered later on (probably...)."
      ]
    },
    {
      "cell_type": "markdown",
      "metadata": {
        "id": "fGms_dfjDa9D"
      },
      "source": [
        "# **Control Flow Statements**\n",
        "\n",
        "Usually, when we execute a Python script, each line of code is interpreted and executed starting from the top all the way to the bottom. This behaviour can be modified if an error occurs during the execution or if a control flow statement is present. These come in two essential types: **cycles**, where we execute a certain block of code (or a **suite**, in Python jargon) repetitively a certain number of times, and **branch** statements, where depending on a given condition different **suites** can be executed.\n",
        "We'll start by considering conditional branching statements, but first, let us introduce some more terminology. Given a variable of a certain type, we can *cast* that variable into another type:"
      ]
    },
    {
      "cell_type": "code",
      "metadata": {
        "colab": {
          "base_uri": "https://localhost:8080/"
        },
        "id": "fVn62-1ZDGwQ",
        "outputId": "45b06f1c-b74b-47db-f6e8-7dccba292fa1"
      },
      "source": [
        "a = 1 \n",
        "type(a)"
      ],
      "execution_count": null,
      "outputs": [
        {
          "output_type": "execute_result",
          "data": {
            "text/plain": [
              "int"
            ]
          },
          "metadata": {
            "tags": []
          },
          "execution_count": 12
        }
      ]
    },
    {
      "cell_type": "code",
      "metadata": {
        "colab": {
          "base_uri": "https://localhost:8080/"
        },
        "id": "rQ4J5Ci4GD2i",
        "outputId": "fbd2c653-23ad-4ff9-f4bd-488a332a7dd4"
      },
      "source": [
        "a = str(a)\n",
        "type(a)"
      ],
      "execution_count": null,
      "outputs": [
        {
          "output_type": "execute_result",
          "data": {
            "text/plain": [
              "str"
            ]
          },
          "metadata": {
            "tags": []
          },
          "execution_count": 17
        }
      ]
    },
    {
      "cell_type": "markdown",
      "metadata": {
        "id": "k-5I8_FGGeSP"
      },
      "source": [
        "Now, in conditional branch statements we deal with something that looks like this;\n",
        "\n",
        "```\n",
        "if condition_1 :\n",
        "  suite_1\n",
        "elif condition_2 :\n",
        "  suite_2\n",
        ".\n",
        ".\n",
        ".\n",
        "else :\n",
        "  else_suite\n",
        "```\n",
        "We'll deal with the specifics in what follows, but for now what we need to understand is that whatever each `condition` is Python will cast it to a *boolean* value: *True* or *False*. Anything that is not the special value *None*, the number $0$, or an empty string or list will evaluate to *True*:\n",
        "\n",
        "\n",
        "\n"
      ]
    },
    {
      "cell_type": "code",
      "metadata": {
        "colab": {
          "base_uri": "https://localhost:8080/"
        },
        "id": "leFgpRHeGHd2",
        "outputId": "a21b92ad-b4c0-4127-e9d6-9bcbf2b5a0a2"
      },
      "source": [
        "a = 1 \n",
        "b = 1000.000\n",
        "c = \"foo\"\n",
        "d = None\n",
        "e = []\n",
        "f = \"\" \n",
        "g = 0\n",
        "\n",
        "bool(a),bool(b),bool(c),bool(d),bool(e),bool(f),bool(g)"
      ],
      "execution_count": null,
      "outputs": [
        {
          "output_type": "execute_result",
          "data": {
            "text/plain": [
              "(True, True, True, False, False, False, False)"
            ]
          },
          "metadata": {
            "tags": []
          },
          "execution_count": 18
        }
      ]
    },
    {
      "cell_type": "markdown",
      "metadata": {
        "id": "Fi3Rq1kcHQIX"
      },
      "source": [
        "#**The if... else statement**\n"
      ]
    },
    {
      "cell_type": "markdown",
      "metadata": {
        "id": "hM3GNrJNHQBY"
      },
      "source": [
        "We already discussed what the basic syntax of the if statement is just above, let us rewrite it here:\n",
        "\n",
        "```\n",
        "if condition_1 :\n",
        "  suite_1\n",
        "elif condition_2 :\n",
        "  suite_2\n",
        ".\n",
        ".\n",
        ".\n",
        "else :\n",
        "  else_suite\n",
        "```\n",
        "Essentially, an if statement is what we use whenever we have a certain block of code that we only want to be executed when a certain condition is met. The ``elif``clauses are used to test for additional conditions, so that if (and only if) ``condition_1`` evaluates to ``False``python will go on to check the other ones in order, and will execute only the suite of code associated with the first condition that evaluates to ``True``. Finally, if all conditions are ``False``, the ``else`` suite will be executed. It should be noted that the ``elif``clauses are optional, and so is the ``else`` clause.\n",
        "One last very important thing that we need to notice here is that after every condition we put a colon, and the suit of code that follows is **indented** one unit to the right! Indentation is the way Python compartimentalizes its code: that is, Python understands where the ``if``statement (or any other statement, for that matter.. in fact, notice that we indented the code when defining the ``is_divisible`` function in the introduction!) ends by checking the alignment of your code. This makes for very easy to read code.\n",
        "\n",
        "To make this a bit clearer, we'll now give a couple example, working our way up from very simple stuff towards somewhat more realistic cases.\n"
      ]
    },
    {
      "cell_type": "code",
      "metadata": {
        "id": "fCvwtaUxHN8R",
        "colab": {
          "base_uri": "https://localhost:8080/",
          "height": 0
        },
        "outputId": "c48dc4ab-7df2-408c-bb23-0b33e9686873"
      },
      "source": [
        "if True:\n",
        "  print(\"Good Morning\")"
      ],
      "execution_count": 19,
      "outputs": [
        {
          "output_type": "stream",
          "text": [
            "Good Morning\n"
          ],
          "name": "stdout"
        }
      ]
    },
    {
      "cell_type": "code",
      "metadata": {
        "colab": {
          "base_uri": "https://localhost:8080/",
          "height": 0
        },
        "id": "AEDssCTDfA26",
        "outputId": "f548f5cc-3713-4948-9258-6d94f748d3a9"
      },
      "source": [
        "if 0:\n",
        "  print(\"No luck!\")\n",
        "else:\n",
        "  print(\"Much better!\") "
      ],
      "execution_count": 21,
      "outputs": [
        {
          "output_type": "stream",
          "text": [
            "Much better!\n"
          ],
          "name": "stdout"
        }
      ]
    },
    {
      "cell_type": "markdown",
      "metadata": {
        "id": "Fvns3uasfJYr"
      },
      "source": [
        "Let us now define another function that uses an ``if``statement within it (we'll come back to function definitions later!)"
      ]
    },
    {
      "cell_type": "code",
      "metadata": {
        "id": "yOvXxvZOfGW4"
      },
      "source": [
        "def is_word_in_phrase(word,phrase):\n",
        "  # This function takes two str type arguments as inputs and checks wether the \n",
        "  # first one is contained within the second one, if not, it will append \n",
        "  \n",
        "  if type(word) is not str:\n",
        "    print(\"the first argument must be a string!\")\n",
        "    return \n",
        "  elif type(phrase) is not str:\n",
        "    print(\"The second argument must be a string!\")\n",
        "    return\n",
        "\n",
        "  if word in phrase:\n",
        "    return True\n",
        "  else:\n",
        "    return phrase + word\n",
        "\n",
        "    "
      ],
      "execution_count": 31,
      "outputs": []
    },
    {
      "cell_type": "code",
      "metadata": {
        "colab": {
          "base_uri": "https://localhost:8080/",
          "height": 0
        },
        "id": "edF6IXkCgYPQ",
        "outputId": "9c1d6152-6f6a-44c2-e942-fde14712d180"
      },
      "source": [
        "is_word_in_phrase(\"cat\",\"the cat is on the table\")"
      ],
      "execution_count": 25,
      "outputs": [
        {
          "output_type": "execute_result",
          "data": {
            "text/plain": [
              "True"
            ]
          },
          "metadata": {
            "tags": []
          },
          "execution_count": 25
        }
      ]
    },
    {
      "cell_type": "code",
      "metadata": {
        "colab": {
          "base_uri": "https://localhost:8080/",
          "height": 35
        },
        "id": "TSM2DWx9gcTK",
        "outputId": "f9ddb46a-cee7-49a7-b81e-f0623a57c4f8"
      },
      "source": [
        "is_word_in_phrase(\"table\",\"the cat is on the \")"
      ],
      "execution_count": 32,
      "outputs": [
        {
          "output_type": "execute_result",
          "data": {
            "application/vnd.google.colaboratory.intrinsic+json": {
              "type": "string"
            },
            "text/plain": [
              "'the cat is on the table'"
            ]
          },
          "metadata": {
            "tags": []
          },
          "execution_count": 32
        }
      ]
    },
    {
      "cell_type": "code",
      "metadata": {
        "colab": {
          "base_uri": "https://localhost:8080/",
          "height": 0
        },
        "id": "FbuMn4Ckgl5p",
        "outputId": "8134e722-f180-4149-b919-8c7620936e4a"
      },
      "source": [
        "is_word_in_phrase(1,\"foo\")"
      ],
      "execution_count": 33,
      "outputs": [
        {
          "output_type": "stream",
          "text": [
            "the first argument must be a string!\n"
          ],
          "name": "stdout"
        }
      ]
    },
    {
      "cell_type": "markdown",
      "metadata": {
        "id": "x4JLZfKWhk2x"
      },
      "source": [
        "A quick note before we go on. The last example was still somewhat artificial, both due to our lack of available programming tools and to my personal lack of creativity. Nonetheless, we're starting to get closer and closer to having enough concepts at our disposal to construct more realistic functions and little projects, just be patient a bit longer."
      ]
    },
    {
      "cell_type": "markdown",
      "metadata": {
        "id": "-jngw0CohFgp"
      },
      "source": [
        "# **``while``and ``for`` statements** \n",
        "We come now to the second time of Flow control statements that we need to treat: **loops** or **cycles**. These account for the need of the programmer of repeating the execution of a certain code suite for a certain number of times. Let us start with ``while``.\n",
        "We use a ``while``statement every time we need a certain block of code to execute for as long as a certain condition is met. The syntax goes as follows:\n",
        "```\n",
        "while condtion:\n",
        "  suite\n",
        "```\n",
        "Notice that ``while``statements are also delimited by code indentation. All compartimentalized code in Python is delimited by indentation and we'll stop explicitly pointing this out from now on.\n",
        "\n",
        "Consider the following basic example:"
      ]
    },
    {
      "cell_type": "code",
      "metadata": {
        "id": "CBKodrerjhZ5"
      },
      "source": [
        "mylist = []\n",
        "while len(mylist) < 10:\n",
        "  mylist.append(\"foo\")"
      ],
      "execution_count": 34,
      "outputs": []
    },
    {
      "cell_type": "code",
      "metadata": {
        "colab": {
          "base_uri": "https://localhost:8080/",
          "height": 0
        },
        "id": "Ret1Bx-9jrYY",
        "outputId": "b1a2ea3a-c6e6-4182-9f0b-f3aacb6dfe2a"
      },
      "source": [
        "print(mylist)"
      ],
      "execution_count": 36,
      "outputs": [
        {
          "output_type": "stream",
          "text": [
            "['foo', 'foo', 'foo', 'foo', 'foo', 'foo', 'foo', 'foo', 'foo', 'foo']\n"
          ],
          "name": "stdout"
        }
      ]
    },
    {
      "cell_type": "markdown",
      "metadata": {
        "id": "lUkJUrNJjwb6"
      },
      "source": [
        "As you can see, we kept on adding the same element to the list until the condition ``len(list)<10``stopped being ``True``. Pretty simple. Now we step it up a notch:"
      ]
    },
    {
      "cell_type": "code",
      "metadata": {
        "colab": {
          "base_uri": "https://localhost:8080/",
          "height": 0
        },
        "id": "h-pzHFk6jslq",
        "outputId": "b51ec04f-0b75-4e6d-f855-ced5afbe31eb"
      },
      "source": [
        "mylist = []\n",
        "while True:\n",
        "  a = input(\"Please input a character:\")\n",
        "  if a:\n",
        "    mylist.append(a)\n",
        "  else:\n",
        "    break\n",
        "\n",
        "print(mylist)\n"
      ],
      "execution_count": 39,
      "outputs": [
        {
          "output_type": "stream",
          "text": [
            "Please input a character:foo\n",
            "Please input a character:bar\n",
            "Please input a character:foobar\n",
            "Please input a character:\n",
            "['foo', 'bar', 'foobar']\n"
          ],
          "name": "stdout"
        }
      ]
    },
    {
      "cell_type": "markdown",
      "metadata": {
        "id": "fwggCz-hkdD8"
      },
      "source": [
        "We introduced the ``break``command. It's pretty intuitive, it interrupts the cycle where it is executed and the code goes on from there. Notice how, if we hadn't introduced a ``break`` somewhere in the above example, the cycle would never have stopped executing since the condition will always, by definition, evaluate to ``True``!\n",
        "\n",
        "We now move on to ``for``statements. These are used whenever we want to execute a certain suite of code by iterating a certain variable through a list, tuple, or other ``iterable``object. The syntax goes as follows:\n",
        "\n",
        "```\n",
        "for variable in iterable:\n",
        "  suite\n",
        "```\n",
        "For loops also support the ``break`` command."
      ]
    },
    {
      "cell_type": "code",
      "metadata": {
        "colab": {
          "base_uri": "https://localhost:8080/",
          "height": 0
        },
        "id": "KyRSY7qmkVAI",
        "outputId": "07daedee-ff61-4290-911e-22b0874b1a59"
      },
      "source": [
        "week = [\"Monday\",\"Tuesday\",\"Wednesday\",\"Thursday\",\"Friday\",\"Saturday\",\"Sunday\"]\n",
        "for day in week:\n",
        "  print(day,\" is a day of the week!\")"
      ],
      "execution_count": 40,
      "outputs": [
        {
          "output_type": "stream",
          "text": [
            "Monday  is a day of the week!\n",
            "Tuesday  is a day of the week!\n",
            "Wednesday  is a day of the week!\n",
            "Thursday  is a day of the week!\n",
            "Friday  is a day of the week!\n",
            "Saturday  is a day of the week!\n",
            "Sunday  is a day of the week!\n"
          ],
          "name": "stdout"
        }
      ]
    },
    {
      "cell_type": "markdown",
      "metadata": {
        "id": "MzyQ55oQm5hH"
      },
      "source": [
        "You get the jist. A very common use-case for a ``for``loop (and a very traditional one, in a certain sese) is to employ it when we want a certain piece of code to be executed a certain number of times. To do this one generally introduces a loop index ( classical names are ``i,j,k,h``and so on) and allow it to vary from 0 to n with a step of 1. Here's how this is done in Python:"
      ]
    },
    {
      "cell_type": "code",
      "metadata": {
        "colab": {
          "base_uri": "https://localhost:8080/",
          "height": 0
        },
        "id": "cGXrABt7m2QG",
        "outputId": "3160450c-23cd-4d9a-8c86-0e0388ef1b76"
      },
      "source": [
        "for i in range(3):\n",
        "  print(\"i=\",i)"
      ],
      "execution_count": 46,
      "outputs": [
        {
          "output_type": "stream",
          "text": [
            "i= 0\n",
            "i= 1\n",
            "i= 2\n"
          ],
          "name": "stdout"
        }
      ]
    },
    {
      "cell_type": "markdown",
      "metadata": {
        "id": "JWy5OiaToIo6"
      },
      "source": [
        "Strings also count as iterables!"
      ]
    },
    {
      "cell_type": "code",
      "metadata": {
        "colab": {
          "base_uri": "https://localhost:8080/",
          "height": 0
        },
        "id": "D5Nv65Qrnhvv",
        "outputId": "a9ac83d4-bc6a-4982-8860-6e710ad4c757"
      },
      "source": [
        "for letter in \"ABCDEFGHILMNOPQRSTUVZ\":\n",
        "  if letter in \"AEIOU\":\n",
        "    print(letter,\"is a vowel!\")\n",
        "  else:\n",
        "    print(letter,\"is a consonant!\")"
      ],
      "execution_count": 47,
      "outputs": [
        {
          "output_type": "stream",
          "text": [
            "A is a vowel!\n",
            "B is a consonant!\n",
            "C is a consonant!\n",
            "D is a consonant!\n",
            "E is a vowel!\n",
            "F is a consonant!\n",
            "G is a consonant!\n",
            "H is a consonant!\n",
            "I is a vowel!\n",
            "L is a consonant!\n",
            "M is a consonant!\n",
            "N is a consonant!\n",
            "O is a vowel!\n",
            "P is a consonant!\n",
            "Q is a consonant!\n",
            "R is a consonant!\n",
            "S is a consonant!\n",
            "T is a consonant!\n",
            "U is a vowel!\n",
            "V is a consonant!\n",
            "Z is a consonant!\n"
          ],
          "name": "stdout"
        }
      ]
    },
    {
      "cell_type": "markdown",
      "metadata": {
        "id": "kEGOhzQboajU"
      },
      "source": [
        "As a final note, let us point out that use-cases for ``while``and for statements often overlap. For example, the following code actually produces the same effect as the one above:"
      ]
    },
    {
      "cell_type": "code",
      "metadata": {
        "colab": {
          "base_uri": "https://localhost:8080/",
          "height": 0
        },
        "id": "8JGs6Hf4ndwj",
        "outputId": "16df3c93-5c18-4cdb-cb6d-32ca48b838cc"
      },
      "source": [
        "i = 0\n",
        "while i < 3:\n",
        "  print(\"i=\",i)\n",
        "  i += 1"
      ],
      "execution_count": 48,
      "outputs": [
        {
          "output_type": "stream",
          "text": [
            "i= 0\n",
            "i= 1\n",
            "i= 2\n"
          ],
          "name": "stdout"
        }
      ]
    },
    {
      "cell_type": "markdown",
      "metadata": {
        "id": "0HO4_MaRw9XN"
      },
      "source": [
        "It works in the same way, but is a lot more old fashioned!"
      ]
    },
    {
      "cell_type": "markdown",
      "metadata": {
        "id": "jpgqpLO7xEyw"
      },
      "source": [
        "# **Defining and calling functions**\n"
      ]
    },
    {
      "cell_type": "markdown",
      "metadata": {
        "id": "EJXoHi9yotpS"
      },
      "source": [
        "\n",
        "\n",
        "# **Basics of Exception handling**\n",
        "More oftent than not, coding may go wrong, and when we try to execute our code all we'll get is an error message. For as much as we may dread these messages, the sooner we learn how to embrace them and understand they're actually very helpful the better. Python is no joke when it comes to handling exceptions, and this is perhaps one of the most complicated aspects of the whole programming language. What we'll do now is cover the basics of the basics of what errors and exceptions are and how we should go about handling them in our code.\n",
        "\n",
        "The story goes as follows: if something bad happens and Python is unhappy with our code, it will throw us an Error in the form of an **exception**. Exceptions are just one of the many built-in Python objects. Generally speaking, when an exception is raised the execution of our code is aborted and we get a **traceback** telling us where in the code the exception was **raised** and the error message that came with it. Let us see some examples of that:"
      ]
    },
    {
      "cell_type": "code",
      "metadata": {
        "colab": {
          "base_uri": "https://localhost:8080/",
          "height": 198
        },
        "id": "UBVgRi_mssKC",
        "outputId": "c1852090-64df-48d5-8be8-ce545471b4b0"
      },
      "source": [
        "a = \"foo\"\n",
        "b = 1\n",
        "a + b"
      ],
      "execution_count": 54,
      "outputs": [
        {
          "output_type": "error",
          "ename": "TypeError",
          "evalue": "ignored",
          "traceback": [
            "\u001b[0;31m---------------------------------------------------------------------------\u001b[0m",
            "\u001b[0;31mTypeError\u001b[0m                                 Traceback (most recent call last)",
            "\u001b[0;32m<ipython-input-54-d321593e1a43>\u001b[0m in \u001b[0;36m<module>\u001b[0;34m()\u001b[0m\n\u001b[1;32m      1\u001b[0m \u001b[0ma\u001b[0m \u001b[0;34m=\u001b[0m \u001b[0;34m\"foo\"\u001b[0m\u001b[0;34m\u001b[0m\u001b[0;34m\u001b[0m\u001b[0m\n\u001b[1;32m      2\u001b[0m \u001b[0mb\u001b[0m \u001b[0;34m=\u001b[0m \u001b[0;36m1\u001b[0m\u001b[0;34m\u001b[0m\u001b[0;34m\u001b[0m\u001b[0m\n\u001b[0;32m----> 3\u001b[0;31m \u001b[0ma\u001b[0m \u001b[0;34m+\u001b[0m \u001b[0mb\u001b[0m\u001b[0;34m\u001b[0m\u001b[0;34m\u001b[0m\u001b[0m\n\u001b[0m",
            "\u001b[0;31mTypeError\u001b[0m: can only concatenate str (not \"int\") to str"
          ]
        }
      ]
    },
    {
      "cell_type": "markdown",
      "metadata": {
        "id": "ch0mU2rJsvSH"
      },
      "source": [
        "Python gave us a **TypeError**: he doesn't know what exactly we meant to do when we asked him to add together a ``str`` and an ``int``(and, let's be honest, neather did we). The error message may seem scary at first, but it's very informative.\n",
        "Now many times when we write a certain piece of code we may anticipate that certain exceptions may occur at certain points in the execution. For example,we may try to add together two user-defined variables but we may foresee them being incompatible. Often time we need to account for common error occurences when writing our codes, especially if they may arise from the user's mistakes. In some cases, we may wish the program to simply exit, but in others we may have a solution to that problem and want to try and handle it automatically during the execution. In these cases we can use the ``try.. except``statement. It's syntax goes as follows:\n",
        "```\n",
        "try:\n",
        "  suite_1\n",
        "except exception_group_1 as variable1:\n",
        "  exception_suite_1\n",
        ".\n",
        ".\n",
        ".\n",
        "except exception_group_N as variableN:\n",
        "  exception_suite_N\n",
        "else :\n",
        "  else_suite\n",
        "finally :\n",
        "  finally_suite\n",
        "```\n",
        "Here, the ``try``and the ``try_suite`` are compulsory, and so is at least one ``except`` clause, whereas all the rest is optional.\n",
        "This is the first really complicated statement we came across, so take your time on it. What it does is the following: first, it tries to execute the ``try_suite``. If any exception is raised within it, it will try, one at a time, comparing the specific exception with each ``exception_group``. If a matching exception group is found, it will execute the corresponding suite. The ``else_suite``is executed if and only if the ``try_suite``goes through without errors, whereas the ``finally_suite``gets executed at the end, no matter what. An example is in order:"
      ]
    },
    {
      "cell_type": "code",
      "metadata": {
        "id": "OBXr5pEDvN30"
      },
      "source": [
        "def add_one(a):\n",
        "  try:\n",
        "    result = a + 1\n",
        "  except TypeError as msg:\n",
        "    print(msg,\"...Aborting execution!\")\n",
        "    return\n",
        "  else:\n",
        "    return result\n"
      ],
      "execution_count": 60,
      "outputs": []
    },
    {
      "cell_type": "code",
      "metadata": {
        "colab": {
          "base_uri": "https://localhost:8080/",
          "height": 0
        },
        "id": "FVCNbpgJvg5F",
        "outputId": "d2c75bce-1c67-4714-8244-c20a458fc190"
      },
      "source": [
        "add_one(1)"
      ],
      "execution_count": 61,
      "outputs": [
        {
          "output_type": "execute_result",
          "data": {
            "text/plain": [
              "2"
            ]
          },
          "metadata": {
            "tags": []
          },
          "execution_count": 61
        }
      ]
    },
    {
      "cell_type": "code",
      "metadata": {
        "colab": {
          "base_uri": "https://localhost:8080/",
          "height": 0
        },
        "id": "nLADkLKkviks",
        "outputId": "8effea07-0c40-4012-9cf8-5c89c1e517f8"
      },
      "source": [
        "add_one(\"pippo\")"
      ],
      "execution_count": 62,
      "outputs": [
        {
          "output_type": "stream",
          "text": [
            "can only concatenate str (not \"int\") to str ...Aborting execution!\n"
          ],
          "name": "stdout"
        }
      ]
    },
    {
      "cell_type": "markdown",
      "metadata": {
        "id": "FyI_OcPDvsKa"
      },
      "source": [
        "As you can see we succesfully **handled** the exception and didn't get an ugly error message as a result. This is especially useful within loops:"
      ]
    },
    {
      "cell_type": "code",
      "metadata": {
        "id": "a9edMRtnv0_D"
      },
      "source": [
        "def add_one(a):\n",
        "  # this time we expect a list as input\n",
        "  if type(a) is not list:\n",
        "    a = [a]\n",
        "  result = []\n",
        "  for element in a:\n",
        "    try: \n",
        "      element = element + 1 \n",
        "    except TypeError as msg:\n",
        "      print(msg,\"... We'll ignore element\",element)\n",
        "    finally:\n",
        "      result.append(element)\n",
        "  return result"
      ],
      "execution_count": 63,
      "outputs": []
    },
    {
      "cell_type": "code",
      "metadata": {
        "colab": {
          "base_uri": "https://localhost:8080/"
        },
        "id": "V4-Gq4w4weR9",
        "outputId": "c1228a7f-af5c-4142-d022-bd8b006ecaed"
      },
      "source": [
        "mylist = [1,22,\"foo\",3]\n",
        "result = add_one(mylist)"
      ],
      "execution_count": 64,
      "outputs": [
        {
          "output_type": "stream",
          "text": [
            "can only concatenate str (not \"int\") to str ... We'll ignore element foo\n"
          ],
          "name": "stdout"
        }
      ]
    },
    {
      "cell_type": "code",
      "metadata": {
        "colab": {
          "base_uri": "https://localhost:8080/"
        },
        "id": "HPTSqyUIwm1u",
        "outputId": "c15cee56-abf5-426d-ba02-d55a98349e6c"
      },
      "source": [
        "print(result)"
      ],
      "execution_count": 65,
      "outputs": [
        {
          "output_type": "stream",
          "text": [
            "[2, 23, 'foo', 4]\n"
          ],
          "name": "stdout"
        }
      ]
    },
    {
      "cell_type": "markdown",
      "metadata": {
        "id": "OCTxc2G4rg7s"
      },
      "source": [
        "## **Example 1**\n",
        "We now construct the first somewhat realistic example using everything we covered so far: we want to code a script that asks the user to input numbers and then computes the average of said numbers. You can try this yourself and check the solution later if you like.\n",
        "\n"
      ]
    },
    {
      "cell_type": "code",
      "metadata": {
        "colab": {
          "base_uri": "https://localhost:8080/",
          "height": 0
        },
        "id": "tSjAijF3osb4",
        "outputId": "efd267d9-3c8d-4b34-cde4-024792ca0bc0"
      },
      "source": [
        "total = 0.0\n",
        "count = 0.0\n",
        "while True:\n",
        "  x = input(\"Please input a number or press Enter to exit:\")\n",
        "  if x:\n",
        "    try: \n",
        "      x = float(x)\n",
        "    except ValueError:\n",
        "      print(\"user input could not be cast to float!\")\n",
        "    else:\n",
        "      total += x\n",
        "      count += 1     \n",
        "  else :\n",
        "    break\n",
        "\n",
        "print(\"The average is:\",total/count)"
      ],
      "execution_count": 53,
      "outputs": [
        {
          "output_type": "stream",
          "text": [
            "Please input a number or press Enter to exit:ah\n",
            "user input could not be cast to float!\n",
            "Please input a number or press Enter to exit:1\n",
            "Please input a number or press Enter to exit:2\n",
            "Please input a number or press Enter to exit:3\n",
            "Please input a number or press Enter to exit:\n",
            "The average is: 2.0\n"
          ],
          "name": "stdout"
        }
      ]
    }
  ]
}