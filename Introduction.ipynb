{
  "nbformat": 4,
  "nbformat_minor": 0,
  "metadata": {
    "colab": {
      "name": "Untitled0.ipynb",
      "provenance": [],
      "authorship_tag": "ABX9TyNxQeuoF1tKx0CPybDigsR1",
      "include_colab_link": true
    },
    "kernelspec": {
      "name": "python3",
      "display_name": "Python 3"
    },
    "language_info": {
      "name": "python"
    }
  },
  "cells": [
    {
      "cell_type": "markdown",
      "metadata": {
        "id": "view-in-github",
        "colab_type": "text"
      },
      "source": [
        "<a href=\"https://colab.research.google.com/github/carlomusolino/Python_Intro/blob/main/Introduction.ipynb\" target=\"_parent\"><img src=\"https://colab.research.google.com/assets/colab-badge.svg\" alt=\"Open In Colab\"/></a>"
      ]
    },
    {
      "cell_type": "markdown",
      "metadata": {
        "id": "QUMCdDiL_aVU"
      },
      "source": [
        "# **Introduction to the Python paradigm**\n",
        "## **Module 1: Basics**\n",
        "\n",
        "## **Variables, Functions, Scripts**\n",
        "Let us start by introducing some fundamental concepts that are trasnverse to any programmming language one may wish to learn. No matter what language one is writing code in and what her/his purpose is the fundamental element of programming is writing algorithms. So what is an algorithm? According to Wikipedia, it is: \n",
        "\n",
        "\"\n",
        "a finite sequence of well-defined, computer-implementable instructions, typically to solve a class of problems or to perform a computation.\n",
        "\"\n",
        "\n",
        "Being more practical, let's say we want a computer to tell us wether a certain integer number $a$ is divisible by a certain other integer number $b$. To do this in Python we'd write the following **function**:"
      ]
    },
    {
      "cell_type": "code",
      "metadata": {
        "id": "UqQH-j-I_YKZ"
      },
      "source": [
        "def is_divisible(a,b):\n",
        "  # returns true if a is divisible by b and false otherwise\n",
        "  divisible = False\n",
        "  tmp = a%b\n",
        "  if tmp==0:\n",
        "    divisible = True\n",
        "  return divisible"
      ],
      "execution_count": 4,
      "outputs": []
    },
    {
      "cell_type": "markdown",
      "metadata": {
        "id": "R4rrlPuy_Y1m"
      },
      "source": [
        "Don't worry about the specifics for now, we'll have more than plenty time to cover them all. Let us check that it works though! "
      ]
    },
    {
      "cell_type": "code",
      "metadata": {
        "id": "ujjPfMN3Cvrt"
      },
      "source": [
        "A = 15\n",
        "B = 3 \n",
        "C = 5 \n",
        "D = 7"
      ],
      "execution_count": 15,
      "outputs": []
    },
    {
      "cell_type": "code",
      "metadata": {
        "colab": {
          "base_uri": "https://localhost:8080/"
        },
        "id": "IKXGDRETDKvN",
        "outputId": "3e866816-637c-4266-cb63-d81cda97e714"
      },
      "source": [
        "is_divisible(A,B)"
      ],
      "execution_count": 16,
      "outputs": [
        {
          "output_type": "execute_result",
          "data": {
            "text/plain": [
              "True"
            ]
          },
          "metadata": {
            "tags": []
          },
          "execution_count": 16
        }
      ]
    },
    {
      "cell_type": "code",
      "metadata": {
        "colab": {
          "base_uri": "https://localhost:8080/"
        },
        "id": "71ITQd8sDKnY",
        "outputId": "1c823d79-21bb-4194-e55c-69525f04a6bd"
      },
      "source": [
        "is_divisible(A,C)"
      ],
      "execution_count": 17,
      "outputs": [
        {
          "output_type": "execute_result",
          "data": {
            "text/plain": [
              "True"
            ]
          },
          "metadata": {
            "tags": []
          },
          "execution_count": 17
        }
      ]
    },
    {
      "cell_type": "code",
      "metadata": {
        "colab": {
          "base_uri": "https://localhost:8080/"
        },
        "id": "LrwzkV8NDKdc",
        "outputId": "2ffd4a1c-7325-4cc4-e4b3-07f273f1c06e"
      },
      "source": [
        "is_divisible(A,D)"
      ],
      "execution_count": 18,
      "outputs": [
        {
          "output_type": "execute_result",
          "data": {
            "text/plain": [
              "False"
            ]
          },
          "metadata": {
            "tags": []
          },
          "execution_count": 18
        }
      ]
    },
    {
      "cell_type": "markdown",
      "metadata": {
        "id": "ANItjC3YDU9z"
      },
      "source": [
        "Apparently, it does (but feel free to test it further by modifying the values on line []).\n",
        "This simple example introduces three fundamental concepts of programming. \n",
        "\n",
        "First of all, **data**, be it numerical or whatever, is at the core of any algorithm. In our case we were dealing with integer numbers, that we had to pass to our computer as **input** so that it could tell us wether one was divisible by the other. The way we pass data to Python is through **variables**: in our case $A,B,C,D$ were integer variables to which we assigned user-define values through the **assignment operator** $=$. Notice that $a$,$b$ above are also variables, but they behave slightly differently!\n",
        "\n",
        "This brings us to **functions**. We defined one using the **def** statement above, gave it the name *is_divisible* and defined it to take the **arguments** (i.e. input variables) $a$ and $b$. The function then **returns** a **boolean** (i.e. logical, *True* or *False*) output. Now why are $a$ and $b$ different from $A,B,..$ ? It is because of their **scope**. You can think of a function as a sealed black box that takes certain set input **arguments** and gives back certain **output** depending, in general, on those inputs. Whatever happens inside stays inside. For this reason, we are allowed to pass any variable to the function, independent of its name! The names we gave to *is_divisible*'s arguments are just placeholders whose **scope** is limited to the function's execution. If we were to ask what the value of $a$ or $b$ is *outside* of the function's execution (i.e. within the Python **command line** or **terminal**) we would get an error. Let us make this clearer with a further example. All of the following are completely correct ways of **calling** the function *is_divisible*:"
      ]
    },
    {
      "cell_type": "code",
      "metadata": {
        "colab": {
          "base_uri": "https://localhost:8080/"
        },
        "id": "3KljH3VaDTQl",
        "outputId": "7c3520e1-df12-41df-fb51-b110d05dad57"
      },
      "source": [
        "is_divisible(4,2)"
      ],
      "execution_count": 19,
      "outputs": [
        {
          "output_type": "execute_result",
          "data": {
            "text/plain": [
              "True"
            ]
          },
          "metadata": {
            "tags": []
          },
          "execution_count": 19
        }
      ]
    },
    {
      "cell_type": "code",
      "metadata": {
        "colab": {
          "base_uri": "https://localhost:8080/"
        },
        "id": "uray7G2hGJ_o",
        "outputId": "b779b161-71be-493b-c822-1e90f9c548b8"
      },
      "source": [
        "pippo = 72\n",
        "pluto = 36\n",
        "is_divisible(pippo,pluto)"
      ],
      "execution_count": 20,
      "outputs": [
        {
          "output_type": "execute_result",
          "data": {
            "text/plain": [
              "True"
            ]
          },
          "metadata": {
            "tags": []
          },
          "execution_count": 20
        }
      ]
    },
    {
      "cell_type": "code",
      "metadata": {
        "colab": {
          "base_uri": "https://localhost:8080/"
        },
        "id": "Wbk-2LAUGRT3",
        "outputId": "d412d95d-96a0-4f62-d3c3-1bceb0c2b264"
      },
      "source": [
        "a = 8\n",
        "b = 3\n",
        "is_divisible(a,b)"
      ],
      "execution_count": 21,
      "outputs": [
        {
          "output_type": "execute_result",
          "data": {
            "text/plain": [
              "False"
            ]
          },
          "metadata": {
            "tags": []
          },
          "execution_count": 21
        }
      ]
    },
    {
      "cell_type": "markdown",
      "metadata": {
        "id": "fLhYAYqzGWfE"
      },
      "source": [
        "Now the final element we need are **scripts**. A script is simply a sequence of instructions that gets executed within the Python terminal. All the three code boxes above are examples of scripts. It may seem very similar to a function but there is a very fundamental difference between the two! A function takes input arguments and uses them to produce a given output. As we profusedly discussed above, nothing can be used within a function except what is passed to it via its arguments, it is to all purposes a *sealed box*.  A script on the other hand can use any variable defined within Python's **namespace**, that is, any variable that was defined since the moment when the Python terminal was booted. If you close your Python and reopen it, you'll need to redefine your variables to populate the namespace before you can launch your favourite script."
      ]
    },
    {
      "cell_type": "markdown",
      "metadata": {
        "id": "x3ZdPAy-HjPj"
      },
      "source": [
        "This was your first step into the world of Python. We'll have plenty of time to implement all of these concepts and they'll make a lot more sense when put into practice than they do now. But we had to start somewhere right? \n",
        "\n",
        "Since the best way to learn how to code is to start coding, the next chapter will quickly cover all the bases you need to begin your hands-on experience with Python."
      ]
    }
  ]
}