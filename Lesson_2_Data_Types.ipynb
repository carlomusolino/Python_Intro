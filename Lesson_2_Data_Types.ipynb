{
  "nbformat": 4,
  "nbformat_minor": 0,
  "metadata": {
    "colab": {
      "name": "Lesson_2_Data_Types.ipynb",
      "provenance": [],
      "collapsed_sections": [],
      "authorship_tag": "ABX9TyM03/0XoHEp4GLhAT3b8ZhN",
      "include_colab_link": true
    },
    "kernelspec": {
      "name": "python3",
      "display_name": "Python 3"
    },
    "language_info": {
      "name": "python"
    }
  },
  "cells": [
    {
      "cell_type": "markdown",
      "metadata": {
        "id": "view-in-github",
        "colab_type": "text"
      },
      "source": [
        "<a href=\"https://colab.research.google.com/github/carlomusolino/Python_Intro/blob/main/Lesson_2_Data_Types.ipynb\" target=\"_parent\"><img src=\"https://colab.research.google.com/assets/colab-badge.svg\" alt=\"Open In Colab\"/></a>"
      ]
    },
    {
      "cell_type": "markdown",
      "metadata": {
        "id": "LPFpSVJL1DUp"
      },
      "source": [
        "# **Data Types Revisited** \n",
        "\n",
        "We'll now take a closer look at all the possible data types in Python so that we can stop worrying about them once and for all.\n",
        "\n",
        "## **Identifiers**\n",
        "\n",
        "An identifier is simply the name we give to a certain variable. For example if we were to type into Python ``a=1``we'd be defining a variable of type `` int``and giving it the identifier ``a``.\n",
        "There are rules which establish what we can and can't use as a valid identifier in Python. Essentially we want a sequence of alphanumerical characters (we can actually use all UTF-8 characters but please, don't) where the first must be a letter or an underscore. It is generally a bad idea to start the name of a variable by an underscore since these names are often reserved by Python to indicate special functions pertaining to classes (we'll cover them later on). Another rule is that variable identifiers cannot match any of Python's protected keywords: such as ``if``, ``for``,``break``, ``return``, and so on.\n",
        "\n",
        "## **Numerical data**\n",
        "\n",
        "We'll now give a comprehensive list of the basic built-in mathematical operators that Python offers, and specify those that can only be used on integers:\n",
        "\n",
        "\n",
        "\n",
        "*   ``x+y``addition of x and y\n",
        "*   ``x-y``change of sign/subtraction of y from x\n",
        "*   ``x*y``multiplication of x and y\n",
        "*   ``x**y`` x to the power of y, same as ``pow(x,y```\n",
        "*   ``x/y``  x divided by y\n",
        "*   ``x//y`` integer division (returns an int)\n",
        "*   ``x % y`` x modulo y (remainder of x // y, only for ``int``-type)\n",
        "*   ``abs(x)``absolute value of x\n",
        "*   ``x+=y`` is shorthand for ``x = x+y```\n",
        "*   ``x-=y`` \n",
        "*   ``x*=y```\n",
        "*   ``x/=y``\n",
        "\n",
        "\n",
        "## **Strings**\n",
        "Strings offer us a practical way of transitioning from basic data-types to collections of data. In fact, to the eyes of Python a string is nothing but a sequence or list of characters! Let's start with the basics. A string in Python is any sequence of UTF-8 characters delimited by single or double quotation marks:\n",
        "\n"
      ]
    },
    {
      "cell_type": "code",
      "metadata": {
        "id": "HsKePQ8A5YiI"
      },
      "source": [
        "a  = \"This is a string!\"\n",
        "b  = 'This is also a string!' \n",
        "c  = \" even 'this' is a string!\""
      ],
      "execution_count": null,
      "outputs": []
    },
    {
      "cell_type": "markdown",
      "metadata": {
        "id": "KLJ6kqp65Nms"
      },
      "source": [
        "The only important thing is that the two delimiters must be the same. We can access single characters within a string as we would elements in a list. For example:"
      ]
    },
    {
      "cell_type": "code",
      "metadata": {
        "colab": {
          "base_uri": "https://localhost:8080/"
        },
        "id": "We_yDV7X5hM7",
        "outputId": "6a2e8f91-06c9-4a04-ffe6-9f399ac23ae6"
      },
      "source": [
        "len(a)"
      ],
      "execution_count": null,
      "outputs": [
        {
          "output_type": "execute_result",
          "data": {
            "text/plain": [
              "17"
            ]
          },
          "metadata": {
            "tags": []
          },
          "execution_count": 5
        }
      ]
    },
    {
      "cell_type": "code",
      "metadata": {
        "colab": {
          "base_uri": "https://localhost:8080/"
        },
        "id": "j_GZP-Q_5huJ",
        "outputId": "c8e4f080-ef20-443b-cd4b-c92eb89d1025"
      },
      "source": [
        "a[0], a[2], a[5]"
      ],
      "execution_count": null,
      "outputs": [
        {
          "output_type": "execute_result",
          "data": {
            "text/plain": [
              "('T', 'i', 'i')"
            ]
          },
          "metadata": {
            "tags": []
          },
          "execution_count": 6
        }
      ]
    },
    {
      "cell_type": "markdown",
      "metadata": {
        "id": "X7rQx11B5o66"
      },
      "source": [
        "Now we introduce some indexing techniques that are often very useful when dealing with aggregate data. All lists in python (as well as arrays, which we will encounter later on) can be accessed from the start, using increasing indices starting from 0, or from the end, using decreasing indices starting from -1. So:"
      ]
    },
    {
      "cell_type": "code",
      "metadata": {
        "colab": {
          "base_uri": "https://localhost:8080/"
        },
        "id": "ZAMQi-6R5kFj",
        "outputId": "d399a8ba-c33d-4b52-b70b-c0aceb9d26ef"
      },
      "source": [
        "a[16],a[-1]"
      ],
      "execution_count": null,
      "outputs": [
        {
          "output_type": "execute_result",
          "data": {
            "text/plain": [
              "('!', '!')"
            ]
          },
          "metadata": {
            "tags": []
          },
          "execution_count": 7
        }
      ]
    },
    {
      "cell_type": "markdown",
      "metadata": {
        "id": "QMRN--0B6Bem"
      },
      "source": [
        "We can also access sections of a list via index **slicing**, the general syntax going as follows:\n",
        "```\n",
        "list[start:end:step]\n",
        "```\n",
        "We can omit any of those, and they default to the obvious values: ``0``for start, ``-1``for end, ``1``for step\n",
        "So for example:"
      ]
    },
    {
      "cell_type": "code",
      "metadata": {
        "colab": {
          "base_uri": "https://localhost:8080/",
          "height": 35
        },
        "id": "l-l6PCFL5_BE",
        "outputId": "7bdd4cb8-0c12-44ca-aae0-e3d62b88de2a"
      },
      "source": [
        "a[0:4:1]"
      ],
      "execution_count": null,
      "outputs": [
        {
          "output_type": "execute_result",
          "data": {
            "application/vnd.google.colaboratory.intrinsic+json": {
              "type": "string"
            },
            "text/plain": [
              "'This'"
            ]
          },
          "metadata": {
            "tags": []
          },
          "execution_count": 10
        }
      ]
    },
    {
      "cell_type": "code",
      "metadata": {
        "colab": {
          "base_uri": "https://localhost:8080/",
          "height": 35
        },
        "id": "5QR6AGxx6Sx6",
        "outputId": "baa35231-7700-4f94-bb4b-1583f75cf938"
      },
      "source": [
        "a[0:4]"
      ],
      "execution_count": null,
      "outputs": [
        {
          "output_type": "execute_result",
          "data": {
            "application/vnd.google.colaboratory.intrinsic+json": {
              "type": "string"
            },
            "text/plain": [
              "'This'"
            ]
          },
          "metadata": {
            "tags": []
          },
          "execution_count": 11
        }
      ]
    },
    {
      "cell_type": "code",
      "metadata": {
        "colab": {
          "base_uri": "https://localhost:8080/",
          "height": 35
        },
        "id": "1laFGJRF6i-4",
        "outputId": "889c341a-e8a9-423b-b749-76367eb56854"
      },
      "source": [
        "a[:4]"
      ],
      "execution_count": null,
      "outputs": [
        {
          "output_type": "execute_result",
          "data": {
            "application/vnd.google.colaboratory.intrinsic+json": {
              "type": "string"
            },
            "text/plain": [
              "'This'"
            ]
          },
          "metadata": {
            "tags": []
          },
          "execution_count": 12
        }
      ]
    },
    {
      "cell_type": "code",
      "metadata": {
        "colab": {
          "base_uri": "https://localhost:8080/",
          "height": 35
        },
        "id": "K1IGKDjp6j1e",
        "outputId": "6dfca01d-79e9-4737-a14d-b5a95df3bc82"
      },
      "source": [
        "a[0::2]"
      ],
      "execution_count": null,
      "outputs": [
        {
          "output_type": "execute_result",
          "data": {
            "application/vnd.google.colaboratory.intrinsic+json": {
              "type": "string"
            },
            "text/plain": [
              "'Ti sasrn!'"
            ]
          },
          "metadata": {
            "tags": []
          },
          "execution_count": 18
        }
      ]
    },
    {
      "cell_type": "code",
      "metadata": {
        "colab": {
          "base_uri": "https://localhost:8080/",
          "height": 35
        },
        "id": "a-GDbW3T6wE6",
        "outputId": "4c3d1cd3-bec0-445d-ae20-5e70bbc784ee"
      },
      "source": [
        "a[::2]"
      ],
      "execution_count": null,
      "outputs": [
        {
          "output_type": "execute_result",
          "data": {
            "application/vnd.google.colaboratory.intrinsic+json": {
              "type": "string"
            },
            "text/plain": [
              "'Ti sasrn!'"
            ]
          },
          "metadata": {
            "tags": []
          },
          "execution_count": 15
        }
      ]
    },
    {
      "cell_type": "markdown",
      "metadata": {
        "id": "GeI3GD1P6okC"
      },
      "source": [
        "Experiment with these, it takes some getting used to."
      ]
    },
    {
      "cell_type": "markdown",
      "metadata": {
        "id": "I5pdItPC7Vuk"
      },
      "source": [
        "# **Collection Data Types**\n",
        "\n",
        "We'll now discuss data types which consist of a collection of data elements of different classes. We'll start by briefly going back to lists and tuples to then move on to a new, very important, Python data type: the Dictionary.\n",
        "\n",
        "# **Sequences**\n",
        "\n",
        "Sequence types are all of those data classes that support the ``len()``method, are ``iterable``(we'll see shortly what this exactly means) and can be sliced using the ``[]``operator. These are essentially  ``str``,``tuples``and ``lists``(plus another couple variants of these that are not very commonly used, being ``bytearray``and ``bytes``. As we've already discussed, a ``tuple``is a sequence of data that cannot be modified once it is defined, the sintax for defining a ``tuple``is as follows:"
      ]
    },
    {
      "cell_type": "code",
      "metadata": {
        "id": "X8Sghrex6lkT"
      },
      "source": [
        "a = 12\n",
        "mytuple = (1,a,\"hello!!\")"
      ],
      "execution_count": null,
      "outputs": []
    },
    {
      "cell_type": "markdown",
      "metadata": {
        "id": "i_Yfb1GBFTkz"
      },
      "source": [
        "\n",
        "Lists are very similar to tuples, but unlike those, we can modify a list once it has been created, meaning we can replace, add, or remove items from it. Lists and tuples' elements can be accessed via the slicing operator ``[]``exactly in the same way as strings' characters. Here's a list of useful methods which apply to lists: (in all that follows, ``myList`` is a ``list``type object)\n",
        "\n",
        "\n",
        "*   ``myList.append(x)``appends ``x``at the end of the list\n",
        "*   ``myList.count(x)``counts the number of occurrences of the element ``x``in the list\n",
        "*   ``myList.remove(x)``removes the earliest occurence of item ``x``from the list\n",
        "*   ``myList.pop(i)``returns and removes the element at index ``i``\n",
        "*   ``myList.insert(i,x) ``inserts item ``x``at index i in the list\n",
        "\n",
        "\n",
        "\n"
      ]
    },
    {
      "cell_type": "markdown",
      "metadata": {
        "id": "LnMR8CbVz_35"
      },
      "source": [
        "To refresh what was already covered last time, let us see how we can access items in a list by using a ``for``loop. If we just need to use the items in the list one after the other in the cycle, the easiest way to do this would be:"
      ]
    },
    {
      "cell_type": "code",
      "metadata": {
        "colab": {
          "base_uri": "https://localhost:8080/"
        },
        "id": "dO675nOYz_OZ",
        "outputId": "78e51021-96e0-4e61-e24e-d7a7de9d03e9"
      },
      "source": [
        "mylist = [\"foo\", \"bar\", 128]\n",
        "for item in mylist:\n",
        "  print (item, \"is part of my list!\")"
      ],
      "execution_count": 1,
      "outputs": [
        {
          "output_type": "stream",
          "text": [
            "foo is part of my list!\n",
            "bar is part of my list!\n",
            "128 is part of my list!\n"
          ],
          "name": "stdout"
        }
      ]
    },
    {
      "cell_type": "markdown",
      "metadata": {
        "id": "2PKHoVIc0fBx"
      },
      "source": [
        "But often times it may be more convenient to acces items by indices, especially when dealing with large amounts of numerical data. Let's say now we want to take a list of integers and increase them by one. We could do this via:"
      ]
    },
    {
      "cell_type": "code",
      "metadata": {
        "id": "muRfESq1FS5s",
        "colab": {
          "base_uri": "https://localhost:8080/"
        },
        "outputId": "0dbec61f-c557-46f5-a2c1-05d4474459d5"
      },
      "source": [
        "mylist = [1,2,32,42]\n",
        "for i in range(len(mylist)):\n",
        "  mylist[i] += 1 \n",
        "print(mylist)"
      ],
      "execution_count": 4,
      "outputs": [
        {
          "output_type": "stream",
          "text": [
            "[2, 3, 33, 43]\n"
          ],
          "name": "stdout"
        }
      ]
    },
    {
      "cell_type": "markdown",
      "metadata": {
        "id": "GMnYFbly0-6-"
      },
      "source": [
        "Now we come to a somewhat more advanced way of dealing with lists in Python. We said at the beginning of the section that lists are part of the **iterable** class, but we didn't really explain what this implies. We'll come across them a few times throughtout the remainder of this chapter, but for now suffice to say that iterables come with certain method attributes which can be used to, you guessed it, iterate through the items they contain. Now, say we wish to create a list with all leap years between $1994$ and $2021$. The traditional way of doing this would go as follows:"
      ]
    },
    {
      "cell_type": "code",
      "metadata": {
        "colab": {
          "base_uri": "https://localhost:8080/"
        },
        "id": "wOXFkuiO03Dx",
        "outputId": "850fec25-dbf1-48f9-ef2c-c06279ed49e4"
      },
      "source": [
        "leap_years = []\n",
        "for year in range(1994,2021):\n",
        "  if ( year % 4 == 0 and year % 100 !=0) or (year % 400 == 0):\n",
        "    leap_years.append(year)\n",
        "\n",
        "print(leap_years)"
      ],
      "execution_count": 6,
      "outputs": [
        {
          "output_type": "stream",
          "text": [
            "[1996, 2000, 2004, 2008, 2012, 2016, 2020]\n"
          ],
          "name": "stdout"
        }
      ]
    },
    {
      "cell_type": "markdown",
      "metadata": {
        "id": "kEjyGOxo2OHR"
      },
      "source": [
        "Now we'll do this again, but smarter. To improve on our code and make it more readable and faster to write, we introduce the syntax of **list comprehensions**. A list comprehension is just a way of writing a for loop (with an optional extra condition) so that it directly fills an empty list. The easiest form of a list comprehension looks like this:\n",
        "```\n",
        "[ item for item in iterable]\n",
        "```\n",
        "Let's see this in an example:"
      ]
    },
    {
      "cell_type": "code",
      "metadata": {
        "colab": {
          "base_uri": "https://localhost:8080/"
        },
        "id": "zZII6IFP1_c7",
        "outputId": "b7b03f60-552d-4d81-a47b-8afe63fb3350"
      },
      "source": [
        "mylist = [ n for n in range(10)]\n",
        "print(mylist)"
      ],
      "execution_count": 7,
      "outputs": [
        {
          "output_type": "stream",
          "text": [
            "[0, 1, 2, 3, 4, 5, 6, 7, 8, 9]\n"
          ],
          "name": "stdout"
        }
      ]
    },
    {
      "cell_type": "markdown",
      "metadata": {
        "id": "7jFYsGHL3DHc"
      },
      "source": [
        "Now this looks fancy but its usefulness is somewhat questionable. What makes list comprehensions very clever is that we can add a condition at the end:\n",
        "```\n",
        "[expression(item) for item in iterable if condition]\n",
        "```\n",
        "Again, let's see this in action by rewriting the leap year script:"
      ]
    },
    {
      "cell_type": "code",
      "metadata": {
        "colab": {
          "base_uri": "https://localhost:8080/"
        },
        "id": "S32looYa3CNs",
        "outputId": "8dd37dd4-0c5e-4236-e6c0-3a71074a92ac"
      },
      "source": [
        "mylist = [year for year in range(1994,2021) if (year%4 == 0 and year%100!=0) or (year%400==0)]\n",
        "print(mylist)"
      ],
      "execution_count": 8,
      "outputs": [
        {
          "output_type": "stream",
          "text": [
            "[1996, 2000, 2004, 2008, 2012, 2016, 2020]\n"
          ],
          "name": "stdout"
        }
      ]
    },
    {
      "cell_type": "markdown",
      "metadata": {
        "id": "Cn4sJBeCG4ML"
      },
      "source": [
        "We can even use this to substitute nested ``for``loops... "
      ]
    },
    {
      "cell_type": "code",
      "metadata": {
        "id": "PnMrmdWy3-XT"
      },
      "source": [
        ""
      ],
      "execution_count": null,
      "outputs": []
    },
    {
      "cell_type": "markdown",
      "metadata": {
        "id": "Z44njJk9Ki3e"
      },
      "source": [
        "## **Dictionaries**\n",
        "\n",
        "The last class of data we'll be looking at is Python dictionaries. These are extremely useful in a variety of situations once one gets the hang of them, and also serve as an excellent way to begin understanding the Object Oriented approach that Python takes to programming. A ``dict``is an *unordered* collection of **key-value** pairs. You can think of it as a list where indices aren't just integer numbers but **keys**. So what is a key? Well it can be pretty much anything but most commonly it's just a string. So say for example you're a teacher and would like to keep record of your students marks in their home assignments. You could use a list:"
      ]
    },
    {
      "cell_type": "code",
      "metadata": {
        "id": "XfFaU3iJLaao"
      },
      "source": [
        "grades = [[\"A\",\"B\",\"B+\"],[\"F\",\"C\",\"B-\"],[\"A+\",\"A+\",\"A+\"]]"
      ],
      "execution_count": 9,
      "outputs": []
    },
    {
      "cell_type": "markdown",
      "metadata": {
        "id": "oWrPrhFsLh-O"
      },
      "source": [
        "But then you'd need to remember exactly in what order you entered the students' grades in the list! Not very practical. We then use a dictionary to do the job:"
      ]
    },
    {
      "cell_type": "code",
      "metadata": {
        "id": "vmRXrleJLsO3"
      },
      "source": [
        "grades_dict = { \"Rob\":[\"A\",\"B\",\"B+\"],\n",
        "           \"Bob\": [\"F\",\"C\",\"B-\"],\n",
        "          \"Julia\": [\"A+\",\"A+\",\"A+\"]}"
      ],
      "execution_count": 11,
      "outputs": []
    },
    {
      "cell_type": "markdown",
      "metadata": {
        "id": "D6zT9PpVL5R2"
      },
      "source": [
        "Now we could acces each student's grades simply via:"
      ]
    },
    {
      "cell_type": "code",
      "metadata": {
        "colab": {
          "base_uri": "https://localhost:8080/"
        },
        "id": "dx75VQrXMC0N",
        "outputId": "e087e372-4c77-4dd4-ab1c-b99527219d1a"
      },
      "source": [
        "print(grades_dict[\"Bob\"])"
      ],
      "execution_count": 12,
      "outputs": [
        {
          "output_type": "stream",
          "text": [
            "['F', 'C', 'B-']\n"
          ],
          "name": "stdout"
        }
      ]
    },
    {
      "cell_type": "markdown",
      "metadata": {
        "id": "h6sA5iRxN6HU"
      },
      "source": [
        "We can also access the values and/or  keys separately as iterable objects:"
      ]
    },
    {
      "cell_type": "code",
      "metadata": {
        "colab": {
          "base_uri": "https://localhost:8080/"
        },
        "id": "T_pGydo1MGXp",
        "outputId": "cbfdd2ff-2b48-4fa1-b801-c426035b37c5"
      },
      "source": [
        "mydict = dict()\n",
        "mydict[1] = \"foo\"\n",
        "mydict[\"bar\"] = \"F\"\n",
        "mydict[\"foobar\"] = \"foobar\"\n",
        "\n",
        "print(mydict.keys(),mydict.values())"
      ],
      "execution_count": 20,
      "outputs": [
        {
          "output_type": "stream",
          "text": [
            "dict_keys([1, 'bar', 'foobar']) dict_values(['foo', 'F', 'foobar'])\n"
          ],
          "name": "stdout"
        }
      ]
    },
    {
      "cell_type": "code",
      "metadata": {
        "colab": {
          "base_uri": "https://localhost:8080/"
        },
        "id": "qlj1SB1SORP2",
        "outputId": "b374a12b-2343-4bf7-c681-853aabe90bd5"
      },
      "source": [
        "for key in mydict.keys():\n",
        "  print(key)"
      ],
      "execution_count": 21,
      "outputs": [
        {
          "output_type": "stream",
          "text": [
            "1\n",
            "bar\n",
            "foobar\n"
          ],
          "name": "stdout"
        }
      ]
    },
    {
      "cell_type": "code",
      "metadata": {
        "colab": {
          "base_uri": "https://localhost:8080/"
        },
        "id": "s_jjD2gAOwKQ",
        "outputId": "23526379-a4ee-4ccd-8f59-d559a75b90d6"
      },
      "source": [
        "for value in mydict.values():\n",
        "  print(value)"
      ],
      "execution_count": 23,
      "outputs": [
        {
          "output_type": "stream",
          "text": [
            "foo\n",
            "F\n",
            "foobar\n"
          ],
          "name": "stdout"
        }
      ]
    },
    {
      "cell_type": "markdown",
      "metadata": {
        "id": "k5B9Ga4ZO33K"
      },
      "source": [
        "Actually, the dictionary itself can be iterated over, and that produces the same result of iterating over the keys:"
      ]
    },
    {
      "cell_type": "code",
      "metadata": {
        "colab": {
          "base_uri": "https://localhost:8080/"
        },
        "id": "c1Sr90JZOyYl",
        "outputId": "348334c9-1604-445a-e387-32a2ba61e9e7"
      },
      "source": [
        "for key in mydict:\n",
        "  print(key)"
      ],
      "execution_count": 24,
      "outputs": [
        {
          "output_type": "stream",
          "text": [
            "1\n",
            "bar\n",
            "foobar\n"
          ],
          "name": "stdout"
        }
      ]
    },
    {
      "cell_type": "markdown",
      "metadata": {
        "id": "0BZyxs_gPFnI"
      },
      "source": [
        "Another useful method is  ``dict_name.items()`` which returns an iterable object running over all ``(key,value)``pairs:"
      ]
    },
    {
      "cell_type": "code",
      "metadata": {
        "colab": {
          "base_uri": "https://localhost:8080/"
        },
        "id": "1thBfEAfPCMF",
        "outputId": "c157d50c-d82c-4ef7-a4ed-b004d637198a"
      },
      "source": [
        "for item in mydict.items():\n",
        "  print(item[0],item[1])"
      ],
      "execution_count": 25,
      "outputs": [
        {
          "output_type": "stream",
          "text": [
            "1 foo\n",
            "bar F\n",
            "foobar foobar\n"
          ],
          "name": "stdout"
        }
      ]
    }
  ]
}